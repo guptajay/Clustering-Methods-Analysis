{
 "cells": [
  {
   "cell_type": "code",
   "execution_count": 1,
   "id": "b2a95cbd",
   "metadata": {
    "_cell_guid": "b1076dfc-b9ad-4769-8c92-a6c4dae69d19",
    "_uuid": "8f2839f25d086af736a60e9eeb907d3b93b6e0e5",
    "execution": {
     "iopub.execute_input": "2021-11-21T10:09:44.348626Z",
     "iopub.status.busy": "2021-11-21T10:09:44.347335Z",
     "iopub.status.idle": "2021-11-21T10:09:44.378103Z",
     "shell.execute_reply": "2021-11-21T10:09:44.378958Z",
     "shell.execute_reply.started": "2021-11-21T10:08:21.583898Z"
    },
    "papermill": {
     "duration": 0.056961,
     "end_time": "2021-11-21T10:09:44.379339",
     "exception": false,
     "start_time": "2021-11-21T10:09:44.322378",
     "status": "completed"
    },
    "tags": []
   },
   "outputs": [
    {
     "name": "stdout",
     "output_type": "stream",
     "text": [
      "/kaggle/input/iris/Iris.csv\n",
      "/kaggle/input/iris/database.sqlite\n",
      "/kaggle/input/spiral/Spiral.csv\n"
     ]
    }
   ],
   "source": [
    "# This Python 3 environment comes with many helpful analytics libraries installed\n",
    "# It is defined by the kaggle/python Docker image: https://github.com/kaggle/docker-python\n",
    "# For example, here's several helpful packages to load\n",
    "\n",
    "import numpy as np # linear algebra\n",
    "import pandas as pd # data processing, CSV file I/O (e.g. pd.read_csv)\n",
    "\n",
    "# Input data files are available in the read-only \"../input/\" directory\n",
    "# For example, running this (by clicking run or pressing Shift+Enter) will list all files under the input directory\n",
    "\n",
    "import os\n",
    "for dirname, _, filenames in os.walk('/kaggle/input'):\n",
    "    for filename in filenames:\n",
    "        print(os.path.join(dirname, filename))\n",
    "\n",
    "# You can write up to 20GB to the current directory (/kaggle/working/) that gets preserved as output when you create a version using \"Save & Run All\" \n",
    "# You can also write temporary files to /kaggle/temp/, but they won't be saved outside of the current session"
   ]
  },
  {
   "cell_type": "code",
   "execution_count": 2,
   "id": "9cbdadf0",
   "metadata": {
    "_kg_hide-output": true,
    "execution": {
     "iopub.execute_input": "2021-11-21T10:09:44.431039Z",
     "iopub.status.busy": "2021-11-21T10:09:44.426896Z",
     "iopub.status.idle": "2021-11-21T10:09:45.894907Z",
     "shell.execute_reply": "2021-11-21T10:09:45.894151Z",
     "shell.execute_reply.started": "2021-11-21T10:08:21.639743Z"
    },
    "papermill": {
     "duration": 1.496252,
     "end_time": "2021-11-21T10:09:45.895070",
     "exception": false,
     "start_time": "2021-11-21T10:09:44.398818",
     "status": "completed"
    },
    "tags": []
   },
   "outputs": [],
   "source": [
    "import pandas as pd\n",
    "import numpy as np\n",
    "import matplotlib.pyplot as plt\n",
    "from sklearn.decomposition import PCA\n",
    "from sklearn.cluster import AgglomerativeClustering\n",
    "from sklearn.preprocessing import StandardScaler, normalize\n",
    "from sklearn.metrics import silhouette_score, davies_bouldin_score, calinski_harabasz_score\n",
    "from sklearn.metrics.cluster import homogeneity_score, completeness_score, v_measure_score, adjusted_rand_score, adjusted_mutual_info_score\n",
    "import scipy.cluster.hierarchy as shc\n",
    "import seaborn as sns"
   ]
  },
  {
   "cell_type": "code",
   "execution_count": 3,
   "id": "b0cb29a3",
   "metadata": {
    "execution": {
     "iopub.execute_input": "2021-11-21T10:09:45.937182Z",
     "iopub.status.busy": "2021-11-21T10:09:45.936516Z",
     "iopub.status.idle": "2021-11-21T10:09:45.938940Z",
     "shell.execute_reply": "2021-11-21T10:09:45.938296Z",
     "shell.execute_reply.started": "2021-11-21T10:08:23.108467Z"
    },
    "papermill": {
     "duration": 0.025157,
     "end_time": "2021-11-21T10:09:45.939077",
     "exception": false,
     "start_time": "2021-11-21T10:09:45.913920",
     "status": "completed"
    },
    "tags": []
   },
   "outputs": [],
   "source": [
    "# iris, spiral\n",
    "DATASET = 'iris'"
   ]
  },
  {
   "cell_type": "code",
   "execution_count": 4,
   "id": "ebe33699",
   "metadata": {
    "execution": {
     "iopub.execute_input": "2021-11-21T10:09:45.985363Z",
     "iopub.status.busy": "2021-11-21T10:09:45.984454Z",
     "iopub.status.idle": "2021-11-21T10:09:46.026327Z",
     "shell.execute_reply": "2021-11-21T10:09:46.026852Z",
     "shell.execute_reply.started": "2021-11-21T10:08:23.115008Z"
    },
    "papermill": {
     "duration": 0.069232,
     "end_time": "2021-11-21T10:09:46.027036",
     "exception": false,
     "start_time": "2021-11-21T10:09:45.957804",
     "status": "completed"
    },
    "tags": []
   },
   "outputs": [],
   "source": [
    "if(DATASET == 'iris'):\n",
    "    X = pd.read_csv('../input/iris/Iris.csv')\n",
    "\n",
    "    # Dropping the target column from the data\n",
    "    Y = X[['Species']]\n",
    "    X = X.drop('Species', axis = 1)\n",
    "    \n",
    "    # Scaling the data so that all the features become comparable\n",
    "    scaler = StandardScaler()\n",
    "    X_scaled = scaler.fit_transform(X)\n",
    "\n",
    "    # Normalizing the data so that the data approximately \n",
    "    # follows a Gaussian distribution\n",
    "    X_normalized = normalize(X_scaled)\n",
    "\n",
    "    # Converting the numpy array into a pandas DataFrame\n",
    "    X_normalized = pd.DataFrame(X_normalized)\n",
    "    \n",
    "    pca = PCA(n_components = 2)\n",
    "    X_principal = pca.fit_transform(X_normalized)\n",
    "    X_principal = pd.DataFrame(X_principal)\n",
    "    X_principal.columns = ['P1', 'P2']\n",
    "    \n",
    "elif(DATASET == 'spiral'):\n",
    "    X = pd.read_csv('../input/spiral/Spiral.csv')\n",
    "\n",
    "    # Dropping the target column from the data\n",
    "    Y = X[['label']]\n",
    "    Y = Y.rename(columns={'label': 'Species'})\n",
    "    X = X.drop('label', axis = 1)\n",
    "    \n",
    "    X_principal = X"
   ]
  },
  {
   "cell_type": "code",
   "execution_count": 5,
   "id": "9945b3d1",
   "metadata": {
    "execution": {
     "iopub.execute_input": "2021-11-21T10:09:46.068364Z",
     "iopub.status.busy": "2021-11-21T10:09:46.067316Z",
     "iopub.status.idle": "2021-11-21T10:09:46.083270Z",
     "shell.execute_reply": "2021-11-21T10:09:46.083894Z",
     "shell.execute_reply.started": "2021-11-21T10:08:23.170349Z"
    },
    "papermill": {
     "duration": 0.038167,
     "end_time": "2021-11-21T10:09:46.084063",
     "exception": false,
     "start_time": "2021-11-21T10:09:46.045896",
     "status": "completed"
    },
    "tags": []
   },
   "outputs": [
    {
     "data": {
      "text/html": [
       "<div>\n",
       "<style scoped>\n",
       "    .dataframe tbody tr th:only-of-type {\n",
       "        vertical-align: middle;\n",
       "    }\n",
       "\n",
       "    .dataframe tbody tr th {\n",
       "        vertical-align: top;\n",
       "    }\n",
       "\n",
       "    .dataframe thead th {\n",
       "        text-align: right;\n",
       "    }\n",
       "</style>\n",
       "<table border=\"1\" class=\"dataframe\">\n",
       "  <thead>\n",
       "    <tr style=\"text-align: right;\">\n",
       "      <th></th>\n",
       "      <th>P1</th>\n",
       "      <th>P2</th>\n",
       "    </tr>\n",
       "  </thead>\n",
       "  <tbody>\n",
       "    <tr>\n",
       "      <th>0</th>\n",
       "      <td>1.096621</td>\n",
       "      <td>-0.221490</td>\n",
       "    </tr>\n",
       "    <tr>\n",
       "      <th>1</th>\n",
       "      <td>1.060033</td>\n",
       "      <td>0.182294</td>\n",
       "    </tr>\n",
       "    <tr>\n",
       "      <th>2</th>\n",
       "      <td>1.099548</td>\n",
       "      <td>0.065571</td>\n",
       "    </tr>\n",
       "    <tr>\n",
       "      <th>3</th>\n",
       "      <td>1.080044</td>\n",
       "      <td>0.155045</td>\n",
       "    </tr>\n",
       "    <tr>\n",
       "      <th>4</th>\n",
       "      <td>1.094720</td>\n",
       "      <td>-0.267872</td>\n",
       "    </tr>\n",
       "  </tbody>\n",
       "</table>\n",
       "</div>"
      ],
      "text/plain": [
       "         P1        P2\n",
       "0  1.096621 -0.221490\n",
       "1  1.060033  0.182294\n",
       "2  1.099548  0.065571\n",
       "3  1.080044  0.155045\n",
       "4  1.094720 -0.267872"
      ]
     },
     "execution_count": 5,
     "metadata": {},
     "output_type": "execute_result"
    }
   ],
   "source": [
    "X_principal.head()"
   ]
  },
  {
   "cell_type": "code",
   "execution_count": 6,
   "id": "3371842f",
   "metadata": {
    "execution": {
     "iopub.execute_input": "2021-11-21T10:09:46.132265Z",
     "iopub.status.busy": "2021-11-21T10:09:46.131352Z",
     "iopub.status.idle": "2021-11-21T10:09:46.134679Z",
     "shell.execute_reply": "2021-11-21T10:09:46.135184Z",
     "shell.execute_reply.started": "2021-11-21T10:08:23.190193Z"
    },
    "papermill": {
     "duration": 0.031591,
     "end_time": "2021-11-21T10:09:46.135373",
     "exception": false,
     "start_time": "2021-11-21T10:09:46.103782",
     "status": "completed"
    },
    "tags": []
   },
   "outputs": [
    {
     "data": {
      "text/html": [
       "<div>\n",
       "<style scoped>\n",
       "    .dataframe tbody tr th:only-of-type {\n",
       "        vertical-align: middle;\n",
       "    }\n",
       "\n",
       "    .dataframe tbody tr th {\n",
       "        vertical-align: top;\n",
       "    }\n",
       "\n",
       "    .dataframe thead th {\n",
       "        text-align: right;\n",
       "    }\n",
       "</style>\n",
       "<table border=\"1\" class=\"dataframe\">\n",
       "  <thead>\n",
       "    <tr style=\"text-align: right;\">\n",
       "      <th></th>\n",
       "      <th>Species</th>\n",
       "    </tr>\n",
       "  </thead>\n",
       "  <tbody>\n",
       "    <tr>\n",
       "      <th>0</th>\n",
       "      <td>Iris-setosa</td>\n",
       "    </tr>\n",
       "    <tr>\n",
       "      <th>1</th>\n",
       "      <td>Iris-setosa</td>\n",
       "    </tr>\n",
       "    <tr>\n",
       "      <th>2</th>\n",
       "      <td>Iris-setosa</td>\n",
       "    </tr>\n",
       "    <tr>\n",
       "      <th>3</th>\n",
       "      <td>Iris-setosa</td>\n",
       "    </tr>\n",
       "    <tr>\n",
       "      <th>4</th>\n",
       "      <td>Iris-setosa</td>\n",
       "    </tr>\n",
       "  </tbody>\n",
       "</table>\n",
       "</div>"
      ],
      "text/plain": [
       "       Species\n",
       "0  Iris-setosa\n",
       "1  Iris-setosa\n",
       "2  Iris-setosa\n",
       "3  Iris-setosa\n",
       "4  Iris-setosa"
      ]
     },
     "execution_count": 6,
     "metadata": {},
     "output_type": "execute_result"
    }
   ],
   "source": [
    "Y.head()"
   ]
  },
  {
   "cell_type": "code",
   "execution_count": 7,
   "id": "6833ac7e",
   "metadata": {
    "execution": {
     "iopub.execute_input": "2021-11-21T10:09:46.178228Z",
     "iopub.status.busy": "2021-11-21T10:09:46.177317Z",
     "iopub.status.idle": "2021-11-21T10:09:46.184396Z",
     "shell.execute_reply": "2021-11-21T10:09:46.184905Z",
     "shell.execute_reply.started": "2021-11-21T10:08:23.201313Z"
    },
    "papermill": {
     "duration": 0.030101,
     "end_time": "2021-11-21T10:09:46.185067",
     "exception": false,
     "start_time": "2021-11-21T10:09:46.154966",
     "status": "completed"
    },
    "tags": []
   },
   "outputs": [
    {
     "data": {
      "text/plain": [
       "array(['Iris-setosa', 'Iris-versicolor', 'Iris-virginica'], dtype=object)"
      ]
     },
     "execution_count": 7,
     "metadata": {},
     "output_type": "execute_result"
    }
   ],
   "source": [
    "Y['Species'].unique()"
   ]
  },
  {
   "cell_type": "code",
   "execution_count": 8,
   "id": "fa608072",
   "metadata": {
    "execution": {
     "iopub.execute_input": "2021-11-21T10:09:46.229306Z",
     "iopub.status.busy": "2021-11-21T10:09:46.227480Z",
     "iopub.status.idle": "2021-11-21T10:09:46.232414Z",
     "shell.execute_reply": "2021-11-21T10:09:46.231856Z",
     "shell.execute_reply.started": "2021-11-21T10:08:23.214455Z"
    },
    "papermill": {
     "duration": 0.027659,
     "end_time": "2021-11-21T10:09:46.232569",
     "exception": false,
     "start_time": "2021-11-21T10:09:46.204910",
     "status": "completed"
    },
    "tags": []
   },
   "outputs": [
    {
     "name": "stdout",
     "output_type": "stream",
     "text": [
      "Number of Samples: 150\n"
     ]
    }
   ],
   "source": [
    "print(f'Number of Samples: {X_principal.shape[0]}')"
   ]
  },
  {
   "cell_type": "code",
   "execution_count": 9,
   "id": "5a4c0ff9",
   "metadata": {
    "execution": {
     "iopub.execute_input": "2021-11-21T10:09:46.280140Z",
     "iopub.status.busy": "2021-11-21T10:09:46.276450Z",
     "iopub.status.idle": "2021-11-21T10:09:46.282292Z",
     "shell.execute_reply": "2021-11-21T10:09:46.282831Z",
     "shell.execute_reply.started": "2021-11-21T10:08:23.224430Z"
    },
    "papermill": {
     "duration": 0.030182,
     "end_time": "2021-11-21T10:09:46.283005",
     "exception": false,
     "start_time": "2021-11-21T10:09:46.252823",
     "status": "completed"
    },
    "tags": []
   },
   "outputs": [],
   "source": [
    "if(DATASET == 'spiral'):\n",
    "    fig = plt.figure(figsize =(6, 6))\n",
    "    scatter = plt.scatter(X_principal.iloc[:, 0], X_principal.iloc[:, 1], c = Y['Species'], cmap ='rainbow')\n",
    "    plt.legend(*scatter.legend_elements())\n",
    "    plt.show()\n",
    "\n",
    "    fig.savefig(f'{DATASET}_visualization.png', bbox_inches='tight')"
   ]
  },
  {
   "cell_type": "code",
   "execution_count": 10,
   "id": "6b5d2efd",
   "metadata": {
    "execution": {
     "iopub.execute_input": "2021-11-21T10:09:46.326991Z",
     "iopub.status.busy": "2021-11-21T10:09:46.326276Z",
     "iopub.status.idle": "2021-11-21T10:09:50.356468Z",
     "shell.execute_reply": "2021-11-21T10:09:50.355806Z",
     "shell.execute_reply.started": "2021-11-21T10:08:23.239046Z"
    },
    "papermill": {
     "duration": 4.053342,
     "end_time": "2021-11-21T10:09:50.356610",
     "exception": false,
     "start_time": "2021-11-21T10:09:46.303268",
     "status": "completed"
    },
    "tags": []
   },
   "outputs": [
    {
     "data": {
      "image/png": "[encoded data removed]",
      "text/plain": [
       "<Figure size 576x576 with 1 Axes>"
      ]
     },
     "metadata": {
      "needs_background": "light"
     },
     "output_type": "display_data"
    }
   ],
   "source": [
    "plt.figure(figsize =(8, 8))\n",
    "plt.title('Visualising the data')\n",
    "Dendrogram = shc.dendrogram((shc.linkage(X_principal, method ='ward')))"
   ]
  },
  {
   "cell_type": "code",
   "execution_count": 11,
   "id": "74f87581",
   "metadata": {
    "execution": {
     "iopub.execute_input": "2021-11-21T10:09:50.416924Z",
     "iopub.status.busy": "2021-11-21T10:09:50.415945Z",
     "iopub.status.idle": "2021-11-21T10:09:50.418613Z",
     "shell.execute_reply": "2021-11-21T10:09:50.417959Z",
     "shell.execute_reply.started": "2021-11-21T10:08:27.305901Z"
    },
    "papermill": {
     "duration": 0.04096,
     "end_time": "2021-11-21T10:09:50.418758",
     "exception": false,
     "start_time": "2021-11-21T10:09:50.377798",
     "status": "completed"
    },
    "tags": []
   },
   "outputs": [],
   "source": [
    "# Calculate Scores\n",
    "def get_scores(X_principal, labels, num_cluster):\n",
    "    ss = round(silhouette_score(X_principal, labels), 1)\n",
    "    db = round(davies_bouldin_score(X_principal, labels), 1)\n",
    "    ch = round(calinski_harabasz_score(X_principal, labels), 1)\n",
    "    \n",
    "    x_ = X_principal.copy()\n",
    "    x_ = pd.DataFrame(x_)\n",
    "    x_.loc[:,'Cluster'] = labels\n",
    "    frames = [Y, x_['Cluster']]\n",
    "    result = pd.concat(frames, axis = 1)\n",
    "    result = get_labelled_clusters(num_cluster, result)\n",
    "    \n",
    "    hs = round(homogeneity_score(Y['Species'], result['TransLabel']), 1)\n",
    "    cs = round(completeness_score(Y['Species'], result['TransLabel']), 1)\n",
    "    vs = round(v_measure_score(Y['Species'], result['TransLabel']), 1)\n",
    "    ar = round(adjusted_rand_score(Y['Species'], result['TransLabel']), 1)\n",
    "    am = round(adjusted_mutual_info_score(Y['Species'], result['TransLabel']), 1)\n",
    "    \n",
    "    Correct = (Y['Species'] == result['TransLabel']).sum()\n",
    "    acc = round(Correct/Y.shape[0], 1)\n",
    "    \n",
    "    return acc, ss, db, ch, hs, cs, vs, ar, am\n",
    "\n",
    "def get_secondary_exp_result(X_principal, labels, num_clusters, type_exp, type_exp_val):\n",
    "    acc, ss, db, ch, hs, cs, vs, ar, am = get_scores(X_principal,  labels, num_clusters)\n",
    "    result = {'Num. Clusters': num_clusters,\n",
    "              type_exp: type_exp_val,\n",
    "              'Accuracy': acc,\n",
    "              'Silhouette Score': ss,\n",
    "              'Davies-Bouldin Score': db,\n",
    "              'Calinski-Harabasz Score': ch,\n",
    "              'Homogeneity Score': hs,\n",
    "              'Completeness Score': cs,\n",
    "              'V Measure Score': vs,\n",
    "              'Adjusted Rand Score': ar,\n",
    "              'Adjusted Mutual Info Score': am}\n",
    "    return result\n",
    "\n",
    "def get_labelled_clusters(num_clusters, result):\n",
    "    for ClusterNum in range(num_clusters):\n",
    "        OneCluster = pd.DataFrame(result[result['Cluster'] == ClusterNum].groupby('Species').size())\n",
    "        OneCluster.columns=['Size']\n",
    "        NewDigit = OneCluster.index[OneCluster['Size'] == OneCluster['Size'].max()].tolist()\n",
    "        rowIndex = result.index[result['Cluster'] == ClusterNum]\n",
    "        result.loc[rowIndex, 'TransLabel'] = NewDigit[0]\n",
    "    return result"
   ]
  },
  {
   "cell_type": "markdown",
   "id": "292abf27",
   "metadata": {
    "papermill": {
     "duration": 0.020911,
     "end_time": "2021-11-21T10:09:50.460852",
     "exception": false,
     "start_time": "2021-11-21T10:09:50.439941",
     "status": "completed"
    },
    "tags": []
   },
   "source": [
    "## Primary Experiment: Number of Clusters"
   ]
  },
  {
   "cell_type": "code",
   "execution_count": 12,
   "id": "70937953",
   "metadata": {
    "execution": {
     "iopub.execute_input": "2021-11-21T10:09:50.514217Z",
     "iopub.status.busy": "2021-11-21T10:09:50.513154Z",
     "iopub.status.idle": "2021-11-21T10:10:28.510044Z",
     "shell.execute_reply": "2021-11-21T10:10:28.510573Z",
     "shell.execute_reply.started": "2021-11-21T10:08:27.323434Z"
    },
    "papermill": {
     "duration": 38.028751,
     "end_time": "2021-11-21T10:10:28.510780",
     "exception": false,
     "start_time": "2021-11-21T10:09:50.482029",
     "status": "completed"
    },
    "tags": []
   },
   "outputs": [],
   "source": [
    "MAX_CLUSTERS = X_principal.shape[0]\n",
    "experiment_results = pd.DataFrame()\n",
    "\n",
    "for num_cluster in range(2, MAX_CLUSTERS):\n",
    "    ac = AgglomerativeClustering(n_clusters = num_cluster).fit(X_principal)\n",
    "    acc, ss, db, ch, hs, cs, vs, ar, am = get_scores(X_principal,  ac.labels_, num_cluster)\n",
    "    result = {'Num. Clusters': num_cluster,\n",
    "              'Accuracy': acc,\n",
    "              'Silhouette Score': ss,\n",
    "              'Davies-Bouldin Score': db,\n",
    "              'Calinski-Harabasz Score': ch,\n",
    "              'Homogeneity Score': hs,\n",
    "              'Completeness Score': cs,\n",
    "              'V Measure Score': vs,\n",
    "              'Adjusted Rand Score': ar,\n",
    "              'Adjusted Mutual Info Score': am}\n",
    "    experiment_results = experiment_results.append(result, ignore_index = True)"
   ]
  },
  {
   "cell_type": "code",
   "execution_count": 13,
   "id": "7b258751",
   "metadata": {
    "execution": {
     "iopub.execute_input": "2021-11-21T10:10:28.559450Z",
     "iopub.status.busy": "2021-11-21T10:10:28.558379Z",
     "iopub.status.idle": "2021-11-21T10:10:28.560123Z",
     "shell.execute_reply": "2021-11-21T10:10:28.560627Z",
     "shell.execute_reply.started": "2021-11-21T10:09:05.112971Z"
    },
    "papermill": {
     "duration": 0.028506,
     "end_time": "2021-11-21T10:10:28.560799",
     "exception": false,
     "start_time": "2021-11-21T10:10:28.532293",
     "status": "completed"
    },
    "tags": []
   },
   "outputs": [],
   "source": [
    "if(DATASET == 'iris'):\n",
    "    x_axis = 5\n",
    "elif(DATASET == 'spiral'):\n",
    "    x_axis = 8"
   ]
  },
  {
   "cell_type": "code",
   "execution_count": 14,
   "id": "996f1498",
   "metadata": {
    "execution": {
     "iopub.execute_input": "2021-11-21T10:10:28.606984Z",
     "iopub.status.busy": "2021-11-21T10:10:28.606288Z",
     "iopub.status.idle": "2021-11-21T10:10:29.208975Z",
     "shell.execute_reply": "2021-11-21T10:10:29.208348Z",
     "shell.execute_reply.started": "2021-11-21T10:09:05.121680Z"
    },
    "papermill": {
     "duration": 0.627144,
     "end_time": "2021-11-21T10:10:29.209125",
     "exception": false,
     "start_time": "2021-11-21T10:10:28.581981",
     "status": "completed"
    },
    "tags": []
   },
   "outputs": [
    {
     "data": {
      "image/png": "[encoded data removed]",
      "text/plain": [
       "<Figure size 1152x360 with 2 Axes>"
      ]
     },
     "metadata": {
      "needs_background": "light"
     },
     "output_type": "display_data"
    }
   ],
   "source": [
    "x = experiment_results['Num. Clusters'].iloc[0:x_axis]\n",
    "accuracy = experiment_results['Accuracy'].iloc[0:x_axis]\n",
    "ss = experiment_results['Silhouette Score'].iloc[0:x_axis]\n",
    "bs = experiment_results['Davies-Bouldin Score'].iloc[0:x_axis]\n",
    "hs = experiment_results['Homogeneity Score'].iloc[0:x_axis]\n",
    "cs = experiment_results['Completeness Score'].iloc[0:x_axis]\n",
    "vs = experiment_results['V Measure Score'].iloc[0:x_axis]\n",
    "ar = experiment_results['Adjusted Rand Score'].iloc[0:x_axis]\n",
    "am = experiment_results['Adjusted Mutual Info Score'].iloc[0:x_axis]\n",
    "ch = experiment_results['Calinski-Harabasz Score'].iloc[0:x_axis]\n",
    "\n",
    "# Plot Configuration\n",
    "fig, (ax1, ax2) = plt.subplots(1, 2, figsize=(16,5))\n",
    "fig.suptitle('Agglomerative Clustering')\n",
    "\n",
    "# ax1.plot(x, accuracy, 'gx-', label=\"Accuracy\")\n",
    "ax1.plot(x, ss, 'bx-', label=\"Silhouette Score\")\n",
    "ax1.plot(x, bs, 'rx-', label=\"Davies-Bouldin Score\")\n",
    "ax1.plot(x, hs, 'cx-', label=\"Homogeneity Score\")\n",
    "# ax1.plot(x, cs, 'mx-', label=\"Completeness Score\")\n",
    "# ax1.plot(x, vs, 'yx-', label=\"V Measure Score\")\n",
    "# ax1.plot(x, ar, 'kx-', label=\"Adjusted Rand Score\")\n",
    "# ax1.plot(x, am, 'gx-', label=\"Adjusted Mutual Info Score\")\n",
    "ax1.set_xlabel('Num. Clusters')\n",
    "ax1.set_ylabel('Scores')\n",
    "ax1.legend()\n",
    "ax1.set_xticks(np.arange(min(x), max(x)+1, 1))\n",
    "\n",
    "ax2.plot(x, ch, 'bx-', label = \"Calinski-Harabasz Score\")\n",
    "ax2.set_xlabel('Num. Clusters')\n",
    "ax2.set_ylabel('Scores')\n",
    "ax2.legend()\n",
    "ax2.set_xticks(np.arange(min(x), max(x)+1, 1))\n",
    "\n",
    "plt.show()\n",
    "\n",
    "fig.savefig(f'{DATASET}_clustering.png', bbox_inches='tight')"
   ]
  },
  {
   "cell_type": "markdown",
   "id": "3f766977",
   "metadata": {
    "papermill": {
     "duration": 0.02238,
     "end_time": "2021-11-21T10:10:29.254467",
     "exception": false,
     "start_time": "2021-11-21T10:10:29.232087",
     "status": "completed"
    },
    "tags": []
   },
   "source": [
    "## Secondary Experiment: Linkage Styles"
   ]
  },
  {
   "cell_type": "code",
   "execution_count": 15,
   "id": "ad775bac",
   "metadata": {
    "execution": {
     "iopub.execute_input": "2021-11-21T10:10:29.305196Z",
     "iopub.status.busy": "2021-11-21T10:10:29.304548Z",
     "iopub.status.idle": "2021-11-21T10:10:29.306618Z",
     "shell.execute_reply": "2021-11-21T10:10:29.307237Z",
     "shell.execute_reply.started": "2021-11-21T10:09:05.718780Z"
    },
    "papermill": {
     "duration": 0.030275,
     "end_time": "2021-11-21T10:10:29.307447",
     "exception": false,
     "start_time": "2021-11-21T10:10:29.277172",
     "status": "completed"
    },
    "tags": []
   },
   "outputs": [],
   "source": [
    "if(DATASET == 'iris'):\n",
    "    NUM_CLUSTERS = 3\n",
    "elif(DATASET == 'spiral'):\n",
    "    NUM_CLUSTERS = 5"
   ]
  },
  {
   "cell_type": "code",
   "execution_count": 16,
   "id": "722758d0",
   "metadata": {
    "execution": {
     "iopub.execute_input": "2021-11-21T10:10:29.355624Z",
     "iopub.status.busy": "2021-11-21T10:10:29.354976Z",
     "iopub.status.idle": "2021-11-21T10:10:29.615001Z",
     "shell.execute_reply": "2021-11-21T10:10:29.615899Z",
     "shell.execute_reply.started": "2021-11-21T10:09:05.723808Z"
    },
    "papermill": {
     "duration": 0.286303,
     "end_time": "2021-11-21T10:10:29.616177",
     "exception": false,
     "start_time": "2021-11-21T10:10:29.329874",
     "status": "completed"
    },
    "tags": []
   },
   "outputs": [
    {
     "data": {
      "text/html": [
       "<div>\n",
       "<style scoped>\n",
       "    .dataframe tbody tr th:only-of-type {\n",
       "        vertical-align: middle;\n",
       "    }\n",
       "\n",
       "    .dataframe tbody tr th {\n",
       "        vertical-align: top;\n",
       "    }\n",
       "\n",
       "    .dataframe thead th {\n",
       "        text-align: right;\n",
       "    }\n",
       "</style>\n",
       "<table border=\"1\" class=\"dataframe\">\n",
       "  <thead>\n",
       "    <tr style=\"text-align: right;\">\n",
       "      <th></th>\n",
       "      <th>0</th>\n",
       "      <th>1</th>\n",
       "      <th>2</th>\n",
       "      <th>3</th>\n",
       "    </tr>\n",
       "  </thead>\n",
       "  <tbody>\n",
       "    <tr>\n",
       "      <th>Num. Clusters</th>\n",
       "      <td>3.0</td>\n",
       "      <td>3.0</td>\n",
       "      <td>3.0</td>\n",
       "      <td>3.0</td>\n",
       "    </tr>\n",
       "    <tr>\n",
       "      <th>Linkage Type</th>\n",
       "      <td>ward</td>\n",
       "      <td>complete</td>\n",
       "      <td>average</td>\n",
       "      <td>single</td>\n",
       "    </tr>\n",
       "    <tr>\n",
       "      <th>Accuracy</th>\n",
       "      <td>0.8</td>\n",
       "      <td>0.8</td>\n",
       "      <td>0.8</td>\n",
       "      <td>0.7</td>\n",
       "    </tr>\n",
       "    <tr>\n",
       "      <th>Silhouette Score</th>\n",
       "      <td>0.6</td>\n",
       "      <td>0.6</td>\n",
       "      <td>0.6</td>\n",
       "      <td>0.5</td>\n",
       "    </tr>\n",
       "    <tr>\n",
       "      <th>Davies-Bouldin Score</th>\n",
       "      <td>0.5</td>\n",
       "      <td>0.5</td>\n",
       "      <td>0.5</td>\n",
       "      <td>0.5</td>\n",
       "    </tr>\n",
       "    <tr>\n",
       "      <th>Calinski-Harabasz Score</th>\n",
       "      <td>380.2</td>\n",
       "      <td>459.3</td>\n",
       "      <td>459.3</td>\n",
       "      <td>154.3</td>\n",
       "    </tr>\n",
       "    <tr>\n",
       "      <th>Homogeneity Score</th>\n",
       "      <td>0.6</td>\n",
       "      <td>0.7</td>\n",
       "      <td>0.7</td>\n",
       "      <td>0.6</td>\n",
       "    </tr>\n",
       "    <tr>\n",
       "      <th>Completeness Score</th>\n",
       "      <td>0.7</td>\n",
       "      <td>0.7</td>\n",
       "      <td>0.7</td>\n",
       "      <td>1.0</td>\n",
       "    </tr>\n",
       "    <tr>\n",
       "      <th>V Measure Score</th>\n",
       "      <td>0.7</td>\n",
       "      <td>0.7</td>\n",
       "      <td>0.7</td>\n",
       "      <td>0.7</td>\n",
       "    </tr>\n",
       "    <tr>\n",
       "      <th>Adjusted Rand Score</th>\n",
       "      <td>0.6</td>\n",
       "      <td>0.6</td>\n",
       "      <td>0.6</td>\n",
       "      <td>0.6</td>\n",
       "    </tr>\n",
       "    <tr>\n",
       "      <th>Adjusted Mutual Info Score</th>\n",
       "      <td>0.7</td>\n",
       "      <td>0.7</td>\n",
       "      <td>0.7</td>\n",
       "      <td>0.7</td>\n",
       "    </tr>\n",
       "  </tbody>\n",
       "</table>\n",
       "</div>"
      ],
      "text/plain": [
       "                                0         1        2       3\n",
       "Num. Clusters                 3.0       3.0      3.0     3.0\n",
       "Linkage Type                 ward  complete  average  single\n",
       "Accuracy                      0.8       0.8      0.8     0.7\n",
       "Silhouette Score              0.6       0.6      0.6     0.5\n",
       "Davies-Bouldin Score          0.5       0.5      0.5     0.5\n",
       "Calinski-Harabasz Score     380.2     459.3    459.3   154.3\n",
       "Homogeneity Score             0.6       0.7      0.7     0.6\n",
       "Completeness Score            0.7       0.7      0.7     1.0\n",
       "V Measure Score               0.7       0.7      0.7     0.7\n",
       "Adjusted Rand Score           0.6       0.6      0.6     0.6\n",
       "Adjusted Mutual Info Score    0.7       0.7      0.7     0.7"
      ]
     },
     "execution_count": 16,
     "metadata": {},
     "output_type": "execute_result"
    }
   ],
   "source": [
    "linkage_types = ['ward', 'complete', 'average', 'single']\n",
    "results = pd.DataFrame()\n",
    "\n",
    "for linkage_type in linkage_types:\n",
    "    ac = AgglomerativeClustering(n_clusters = NUM_CLUSTERS, linkage = linkage_type).fit(X_principal)\n",
    "    result = get_secondary_exp_result(X_principal, ac.labels_, NUM_CLUSTERS, 'Linkage Type', linkage_type)\n",
    "    results = results.append(result, ignore_index = True)\n",
    "\n",
    "results.T"
   ]
  },
  {
   "cell_type": "markdown",
   "id": "7f16c940",
   "metadata": {
    "papermill": {
     "duration": 0.024437,
     "end_time": "2021-11-21T10:10:29.685078",
     "exception": false,
     "start_time": "2021-11-21T10:10:29.660641",
     "status": "completed"
    },
    "tags": []
   },
   "source": [
    "## Secondary Experiment: Affinity Styles"
   ]
  },
  {
   "cell_type": "code",
   "execution_count": 17,
   "id": "9813ed33",
   "metadata": {
    "execution": {
     "iopub.execute_input": "2021-11-21T10:10:29.740354Z",
     "iopub.status.busy": "2021-11-21T10:10:29.739693Z",
     "iopub.status.idle": "2021-11-21T10:10:30.013104Z",
     "shell.execute_reply": "2021-11-21T10:10:30.014212Z",
     "shell.execute_reply.started": "2021-11-21T10:09:05.956988Z"
    },
    "papermill": {
     "duration": 0.306395,
     "end_time": "2021-11-21T10:10:30.014511",
     "exception": false,
     "start_time": "2021-11-21T10:10:29.708116",
     "status": "completed"
    },
    "tags": []
   },
   "outputs": [
    {
     "data": {
      "text/html": [
       "<div>\n",
       "<style scoped>\n",
       "    .dataframe tbody tr th:only-of-type {\n",
       "        vertical-align: middle;\n",
       "    }\n",
       "\n",
       "    .dataframe tbody tr th {\n",
       "        vertical-align: top;\n",
       "    }\n",
       "\n",
       "    .dataframe thead th {\n",
       "        text-align: right;\n",
       "    }\n",
       "</style>\n",
       "<table border=\"1\" class=\"dataframe\">\n",
       "  <thead>\n",
       "    <tr style=\"text-align: right;\">\n",
       "      <th></th>\n",
       "      <th>0</th>\n",
       "      <th>1</th>\n",
       "      <th>2</th>\n",
       "      <th>3</th>\n",
       "      <th>4</th>\n",
       "    </tr>\n",
       "  </thead>\n",
       "  <tbody>\n",
       "    <tr>\n",
       "      <th>Num. Clusters</th>\n",
       "      <td>3.0</td>\n",
       "      <td>3.0</td>\n",
       "      <td>3.0</td>\n",
       "      <td>3.0</td>\n",
       "      <td>3.0</td>\n",
       "    </tr>\n",
       "    <tr>\n",
       "      <th>Affinity Type</th>\n",
       "      <td>euclidean</td>\n",
       "      <td>l1</td>\n",
       "      <td>l2</td>\n",
       "      <td>manhattan</td>\n",
       "      <td>cosine</td>\n",
       "    </tr>\n",
       "    <tr>\n",
       "      <th>Accuracy</th>\n",
       "      <td>0.8</td>\n",
       "      <td>0.8</td>\n",
       "      <td>0.8</td>\n",
       "      <td>0.8</td>\n",
       "      <td>0.8</td>\n",
       "    </tr>\n",
       "    <tr>\n",
       "      <th>Silhouette Score</th>\n",
       "      <td>0.6</td>\n",
       "      <td>0.6</td>\n",
       "      <td>0.6</td>\n",
       "      <td>0.6</td>\n",
       "      <td>0.6</td>\n",
       "    </tr>\n",
       "    <tr>\n",
       "      <th>Davies-Bouldin Score</th>\n",
       "      <td>0.5</td>\n",
       "      <td>0.5</td>\n",
       "      <td>0.5</td>\n",
       "      <td>0.5</td>\n",
       "      <td>0.6</td>\n",
       "    </tr>\n",
       "    <tr>\n",
       "      <th>Calinski-Harabasz Score</th>\n",
       "      <td>459.3</td>\n",
       "      <td>380.2</td>\n",
       "      <td>459.3</td>\n",
       "      <td>380.2</td>\n",
       "      <td>452.9</td>\n",
       "    </tr>\n",
       "    <tr>\n",
       "      <th>Homogeneity Score</th>\n",
       "      <td>0.7</td>\n",
       "      <td>0.6</td>\n",
       "      <td>0.7</td>\n",
       "      <td>0.6</td>\n",
       "      <td>0.7</td>\n",
       "    </tr>\n",
       "    <tr>\n",
       "      <th>Completeness Score</th>\n",
       "      <td>0.7</td>\n",
       "      <td>0.7</td>\n",
       "      <td>0.7</td>\n",
       "      <td>0.7</td>\n",
       "      <td>0.7</td>\n",
       "    </tr>\n",
       "    <tr>\n",
       "      <th>V Measure Score</th>\n",
       "      <td>0.7</td>\n",
       "      <td>0.7</td>\n",
       "      <td>0.7</td>\n",
       "      <td>0.7</td>\n",
       "      <td>0.7</td>\n",
       "    </tr>\n",
       "    <tr>\n",
       "      <th>Adjusted Rand Score</th>\n",
       "      <td>0.6</td>\n",
       "      <td>0.6</td>\n",
       "      <td>0.6</td>\n",
       "      <td>0.6</td>\n",
       "      <td>0.6</td>\n",
       "    </tr>\n",
       "    <tr>\n",
       "      <th>Adjusted Mutual Info Score</th>\n",
       "      <td>0.7</td>\n",
       "      <td>0.7</td>\n",
       "      <td>0.7</td>\n",
       "      <td>0.7</td>\n",
       "      <td>0.7</td>\n",
       "    </tr>\n",
       "  </tbody>\n",
       "</table>\n",
       "</div>"
      ],
      "text/plain": [
       "                                    0      1      2          3       4\n",
       "Num. Clusters                     3.0    3.0    3.0        3.0     3.0\n",
       "Affinity Type               euclidean     l1     l2  manhattan  cosine\n",
       "Accuracy                          0.8    0.8    0.8        0.8     0.8\n",
       "Silhouette Score                  0.6    0.6    0.6        0.6     0.6\n",
       "Davies-Bouldin Score              0.5    0.5    0.5        0.5     0.6\n",
       "Calinski-Harabasz Score         459.3  380.2  459.3      380.2   452.9\n",
       "Homogeneity Score                 0.7    0.6    0.7        0.6     0.7\n",
       "Completeness Score                0.7    0.7    0.7        0.7     0.7\n",
       "V Measure Score                   0.7    0.7    0.7        0.7     0.7\n",
       "Adjusted Rand Score               0.6    0.6    0.6        0.6     0.6\n",
       "Adjusted Mutual Info Score        0.7    0.7    0.7        0.7     0.7"
      ]
     },
     "execution_count": 17,
     "metadata": {},
     "output_type": "execute_result"
    }
   ],
   "source": [
    "affinity_types = ['euclidean', 'l1', 'l2', 'manhattan', 'cosine']\n",
    "results = pd.DataFrame()\n",
    "\n",
    "for affinity_type in affinity_types:\n",
    "    ac = AgglomerativeClustering(n_clusters = NUM_CLUSTERS, linkage = 'complete', affinity = affinity_type).fit(X_principal)\n",
    "    result = get_secondary_exp_result(X_principal, ac.labels_, NUM_CLUSTERS, 'Affinity Type', affinity_type)\n",
    "    results = results.append(result, ignore_index = True)\n",
    "\n",
    "results.T"
   ]
  },
  {
   "cell_type": "markdown",
   "id": "0bdaf110",
   "metadata": {
    "papermill": {
     "duration": 0.028324,
     "end_time": "2021-11-21T10:10:30.086917",
     "exception": false,
     "start_time": "2021-11-21T10:10:30.058593",
     "status": "completed"
    },
    "tags": []
   },
   "source": [
    "## Secondary Experiment: Full Tree Computation"
   ]
  },
  {
   "cell_type": "code",
   "execution_count": 18,
   "id": "bcf2e5fb",
   "metadata": {
    "execution": {
     "iopub.execute_input": "2021-11-21T10:10:30.142779Z",
     "iopub.status.busy": "2021-11-21T10:10:30.142106Z",
     "iopub.status.idle": "2021-11-21T10:10:30.306505Z",
     "shell.execute_reply": "2021-11-21T10:10:30.307582Z",
     "shell.execute_reply.started": "2021-11-21T10:09:06.250787Z"
    },
    "papermill": {
     "duration": 0.197015,
     "end_time": "2021-11-21T10:10:30.307856",
     "exception": false,
     "start_time": "2021-11-21T10:10:30.110841",
     "status": "completed"
    },
    "tags": []
   },
   "outputs": [
    {
     "data": {
      "text/html": [
       "<div>\n",
       "<style scoped>\n",
       "    .dataframe tbody tr th:only-of-type {\n",
       "        vertical-align: middle;\n",
       "    }\n",
       "\n",
       "    .dataframe tbody tr th {\n",
       "        vertical-align: top;\n",
       "    }\n",
       "\n",
       "    .dataframe thead th {\n",
       "        text-align: right;\n",
       "    }\n",
       "</style>\n",
       "<table border=\"1\" class=\"dataframe\">\n",
       "  <thead>\n",
       "    <tr style=\"text-align: right;\">\n",
       "      <th></th>\n",
       "      <th>0</th>\n",
       "      <th>1</th>\n",
       "      <th>2</th>\n",
       "    </tr>\n",
       "  </thead>\n",
       "  <tbody>\n",
       "    <tr>\n",
       "      <th>Num. Clusters</th>\n",
       "      <td>3.0</td>\n",
       "      <td>3.0</td>\n",
       "      <td>3.0</td>\n",
       "    </tr>\n",
       "    <tr>\n",
       "      <th>Compute Full Tree</th>\n",
       "      <td>auto</td>\n",
       "      <td>True</td>\n",
       "      <td>False</td>\n",
       "    </tr>\n",
       "    <tr>\n",
       "      <th>Accuracy</th>\n",
       "      <td>0.8</td>\n",
       "      <td>0.8</td>\n",
       "      <td>0.8</td>\n",
       "    </tr>\n",
       "    <tr>\n",
       "      <th>Silhouette Score</th>\n",
       "      <td>0.6</td>\n",
       "      <td>0.6</td>\n",
       "      <td>0.6</td>\n",
       "    </tr>\n",
       "    <tr>\n",
       "      <th>Davies-Bouldin Score</th>\n",
       "      <td>0.5</td>\n",
       "      <td>0.5</td>\n",
       "      <td>0.5</td>\n",
       "    </tr>\n",
       "    <tr>\n",
       "      <th>Calinski-Harabasz Score</th>\n",
       "      <td>380.2</td>\n",
       "      <td>380.2</td>\n",
       "      <td>380.2</td>\n",
       "    </tr>\n",
       "    <tr>\n",
       "      <th>Homogeneity Score</th>\n",
       "      <td>0.6</td>\n",
       "      <td>0.6</td>\n",
       "      <td>0.6</td>\n",
       "    </tr>\n",
       "    <tr>\n",
       "      <th>Completeness Score</th>\n",
       "      <td>0.7</td>\n",
       "      <td>0.7</td>\n",
       "      <td>0.7</td>\n",
       "    </tr>\n",
       "    <tr>\n",
       "      <th>V Measure Score</th>\n",
       "      <td>0.7</td>\n",
       "      <td>0.7</td>\n",
       "      <td>0.7</td>\n",
       "    </tr>\n",
       "    <tr>\n",
       "      <th>Adjusted Rand Score</th>\n",
       "      <td>0.6</td>\n",
       "      <td>0.6</td>\n",
       "      <td>0.6</td>\n",
       "    </tr>\n",
       "    <tr>\n",
       "      <th>Adjusted Mutual Info Score</th>\n",
       "      <td>0.7</td>\n",
       "      <td>0.7</td>\n",
       "      <td>0.7</td>\n",
       "    </tr>\n",
       "  </tbody>\n",
       "</table>\n",
       "</div>"
      ],
      "text/plain": [
       "                                0      1      2\n",
       "Num. Clusters                 3.0    3.0    3.0\n",
       "Compute Full Tree            auto   True  False\n",
       "Accuracy                      0.8    0.8    0.8\n",
       "Silhouette Score              0.6    0.6    0.6\n",
       "Davies-Bouldin Score          0.5    0.5    0.5\n",
       "Calinski-Harabasz Score     380.2  380.2  380.2\n",
       "Homogeneity Score             0.6    0.6    0.6\n",
       "Completeness Score            0.7    0.7    0.7\n",
       "V Measure Score               0.7    0.7    0.7\n",
       "Adjusted Rand Score           0.6    0.6    0.6\n",
       "Adjusted Mutual Info Score    0.7    0.7    0.7"
      ]
     },
     "execution_count": 18,
     "metadata": {},
     "output_type": "execute_result"
    }
   ],
   "source": [
    "compute_full_tree_types = ['auto', True, False]\n",
    "results = pd.DataFrame()\n",
    "\n",
    "for compute_full_tree_type in compute_full_tree_types:\n",
    "    ac = AgglomerativeClustering(n_clusters = NUM_CLUSTERS, compute_full_tree = compute_full_tree_type).fit(X_principal)\n",
    "    result = get_secondary_exp_result(X_principal, ac.labels_, NUM_CLUSTERS, 'Compute Full Tree', compute_full_tree_type)\n",
    "    results = results.append(result, ignore_index = True)\n",
    "\n",
    "results.T"
   ]
  },
  {
   "cell_type": "code",
   "execution_count": null,
   "id": "c45383a8",
   "metadata": {
    "papermill": {
     "duration": 0.030625,
     "end_time": "2021-11-21T10:10:30.382904",
     "exception": false,
     "start_time": "2021-11-21T10:10:30.352279",
     "status": "completed"
    },
    "tags": []
   },
   "outputs": [],
   "source": []
  }
 ],
 "metadata": {
  "kernelspec": {
   "display_name": "Python 3",
   "language": "python",
   "name": "python3"
  },
  "language_info": {
   "codemirror_mode": {
    "name": "ipython",
    "version": 3
   },
   "file_extension": ".py",
   "mimetype": "text/x-python",
   "name": "python",
   "nbconvert_exporter": "python",
   "pygments_lexer": "ipython3",
   "version": "3.7.10"
  },
  "papermill": {
   "default_parameters": {},
   "duration": 56.208268,
   "end_time": "2021-11-21T10:10:31.117348",
   "environment_variables": {},
   "exception": null,
   "input_path": "__notebook__.ipynb",
   "output_path": "__notebook__.ipynb",
   "parameters": {},
   "start_time": "2021-11-21T10:09:34.909080",
   "version": "2.3.3"
  }
 },
 "nbformat": 4,
 "nbformat_minor": 5
}
