{
 "cells": [
  {
   "cell_type": "code",
   "execution_count": 1,
   "metadata": {},
   "outputs": [],
   "source": [
    "import pandas as pd\n",
    "import numpy as np\n",
    "import matplotlib.pyplot as plt \n",
    "import seaborn as sns\n",
    "from sklearn.cluster import KMeans \n",
    "from sklearn.cluster import MiniBatchKMeans\n",
    "from sklearn.metrics import silhouette_score\n",
    "from sklearn.preprocessing import MinMaxScaler\n",
    "\n",
    "from mpl_toolkits.mplot3d import Axes3D\n",
    "from sklearn.cluster import KMeans\n",
    "from sklearn.metrics import silhouette_score\n",
    "from sklearn.metrics import davies_bouldin_score\n",
    "from sklearn import metrics\n",
    "import time"
   ]
  },
  {
   "cell_type": "code",
   "execution_count": 2,
   "metadata": {},
   "outputs": [],
   "source": [
    "iris = pd.read_csv(\"iris.csv\")\n",
    "x = iris.iloc[:, [0, 1, 2, 3]].values"
   ]
  },
  {
   "cell_type": "code",
   "execution_count": 3,
   "metadata": {},
   "outputs": [
    {
     "data": {
      "text/html": [
       "<div>\n",
       "<style scoped>\n",
       "    .dataframe tbody tr th:only-of-type {\n",
       "        vertical-align: middle;\n",
       "    }\n",
       "\n",
       "    .dataframe tbody tr th {\n",
       "        vertical-align: top;\n",
       "    }\n",
       "\n",
       "    .dataframe thead th {\n",
       "        text-align: right;\n",
       "    }\n",
       "</style>\n",
       "<table border=\"1\" class=\"dataframe\">\n",
       "  <thead>\n",
       "    <tr style=\"text-align: right;\">\n",
       "      <th></th>\n",
       "      <th>sepallength</th>\n",
       "      <th>sepalwidth</th>\n",
       "      <th>petallength</th>\n",
       "      <th>petalwidth</th>\n",
       "      <th>class</th>\n",
       "    </tr>\n",
       "  </thead>\n",
       "  <tbody>\n",
       "    <tr>\n",
       "      <th>0</th>\n",
       "      <td>5.1</td>\n",
       "      <td>3.5</td>\n",
       "      <td>1.4</td>\n",
       "      <td>0.2</td>\n",
       "      <td>Iris-setosa</td>\n",
       "    </tr>\n",
       "    <tr>\n",
       "      <th>1</th>\n",
       "      <td>4.9</td>\n",
       "      <td>3.0</td>\n",
       "      <td>1.4</td>\n",
       "      <td>0.2</td>\n",
       "      <td>Iris-setosa</td>\n",
       "    </tr>\n",
       "    <tr>\n",
       "      <th>2</th>\n",
       "      <td>4.7</td>\n",
       "      <td>3.2</td>\n",
       "      <td>1.3</td>\n",
       "      <td>0.2</td>\n",
       "      <td>Iris-setosa</td>\n",
       "    </tr>\n",
       "    <tr>\n",
       "      <th>3</th>\n",
       "      <td>4.6</td>\n",
       "      <td>3.1</td>\n",
       "      <td>1.5</td>\n",
       "      <td>0.2</td>\n",
       "      <td>Iris-setosa</td>\n",
       "    </tr>\n",
       "    <tr>\n",
       "      <th>4</th>\n",
       "      <td>5.0</td>\n",
       "      <td>3.6</td>\n",
       "      <td>1.4</td>\n",
       "      <td>0.2</td>\n",
       "      <td>Iris-setosa</td>\n",
       "    </tr>\n",
       "    <tr>\n",
       "      <th>5</th>\n",
       "      <td>5.4</td>\n",
       "      <td>3.9</td>\n",
       "      <td>1.7</td>\n",
       "      <td>0.4</td>\n",
       "      <td>Iris-setosa</td>\n",
       "    </tr>\n",
       "    <tr>\n",
       "      <th>6</th>\n",
       "      <td>4.6</td>\n",
       "      <td>3.4</td>\n",
       "      <td>1.4</td>\n",
       "      <td>0.3</td>\n",
       "      <td>Iris-setosa</td>\n",
       "    </tr>\n",
       "    <tr>\n",
       "      <th>7</th>\n",
       "      <td>5.0</td>\n",
       "      <td>3.4</td>\n",
       "      <td>1.5</td>\n",
       "      <td>0.2</td>\n",
       "      <td>Iris-setosa</td>\n",
       "    </tr>\n",
       "    <tr>\n",
       "      <th>8</th>\n",
       "      <td>4.4</td>\n",
       "      <td>2.9</td>\n",
       "      <td>1.4</td>\n",
       "      <td>0.2</td>\n",
       "      <td>Iris-setosa</td>\n",
       "    </tr>\n",
       "    <tr>\n",
       "      <th>9</th>\n",
       "      <td>4.9</td>\n",
       "      <td>3.1</td>\n",
       "      <td>1.5</td>\n",
       "      <td>0.1</td>\n",
       "      <td>Iris-setosa</td>\n",
       "    </tr>\n",
       "  </tbody>\n",
       "</table>\n",
       "</div>"
      ],
      "text/plain": [
       "   sepallength  sepalwidth  petallength  petalwidth        class\n",
       "0          5.1         3.5          1.4         0.2  Iris-setosa\n",
       "1          4.9         3.0          1.4         0.2  Iris-setosa\n",
       "2          4.7         3.2          1.3         0.2  Iris-setosa\n",
       "3          4.6         3.1          1.5         0.2  Iris-setosa\n",
       "4          5.0         3.6          1.4         0.2  Iris-setosa\n",
       "5          5.4         3.9          1.7         0.4  Iris-setosa\n",
       "6          4.6         3.4          1.4         0.3  Iris-setosa\n",
       "7          5.0         3.4          1.5         0.2  Iris-setosa\n",
       "8          4.4         2.9          1.4         0.2  Iris-setosa\n",
       "9          4.9         3.1          1.5         0.1  Iris-setosa"
      ]
     },
     "execution_count": 3,
     "metadata": {},
     "output_type": "execute_result"
    }
   ],
   "source": [
    "iris[0:10]"
   ]
  },
  {
   "cell_type": "code",
   "execution_count": 4,
   "metadata": {},
   "outputs": [
    {
     "data": {
      "text/html": [
       "<div>\n",
       "<style scoped>\n",
       "    .dataframe tbody tr th:only-of-type {\n",
       "        vertical-align: middle;\n",
       "    }\n",
       "\n",
       "    .dataframe tbody tr th {\n",
       "        vertical-align: top;\n",
       "    }\n",
       "\n",
       "    .dataframe thead th {\n",
       "        text-align: right;\n",
       "    }\n",
       "</style>\n",
       "<table border=\"1\" class=\"dataframe\">\n",
       "  <thead>\n",
       "    <tr style=\"text-align: right;\">\n",
       "      <th>col_0</th>\n",
       "      <th>count</th>\n",
       "    </tr>\n",
       "    <tr>\n",
       "      <th>class</th>\n",
       "      <th></th>\n",
       "    </tr>\n",
       "  </thead>\n",
       "  <tbody>\n",
       "    <tr>\n",
       "      <th>Iris-setosa</th>\n",
       "      <td>50</td>\n",
       "    </tr>\n",
       "    <tr>\n",
       "      <th>Iris-versicolor</th>\n",
       "      <td>50</td>\n",
       "    </tr>\n",
       "    <tr>\n",
       "      <th>Iris-virginica</th>\n",
       "      <td>50</td>\n",
       "    </tr>\n",
       "  </tbody>\n",
       "</table>\n",
       "</div>"
      ],
      "text/plain": [
       "col_0            count\n",
       "class                 \n",
       "Iris-setosa         50\n",
       "Iris-versicolor     50\n",
       "Iris-virginica      50"
      ]
     },
     "execution_count": 4,
     "metadata": {},
     "output_type": "execute_result"
    }
   ],
   "source": [
    "#Frequency distribution of species\"\n",
    "iris_outcome = pd.crosstab(index=iris[\"class\"],  # Make a crosstab\n",
    "                              columns=\"count\")      # Name the count column\n",
    "\n",
    "iris_outcome"
   ]
  },
  {
   "cell_type": "code",
   "execution_count": 5,
   "metadata": {},
   "outputs": [],
   "source": [
    "iris_setosa=iris.loc[iris[\"class\"]==\"Iris-setosa\"]\n",
    "iris_virginica=iris.loc[iris[\"class\"]==\"Iris-virginica\"]\n",
    "iris_versicolor=iris.loc[iris[\"class\"]==\"Iris-versicolor\"]"
   ]
  },
  {
   "cell_type": "code",
   "execution_count": 6,
   "metadata": {},
   "outputs": [
    {
     "name": "stdout",
     "output_type": "stream",
     "text": [
      "WCSS score for  1  cluster is  680.8244\n",
      "WCSS score for  2  cluster is  152.36870647733906\n",
      "WCSS score for  3  cluster is  78.94084142614602\n",
      "WCSS score for  4  cluster is  57.345409315718165\n",
      "WCSS score for  5  cluster is  46.53558205128205\n",
      "WCSS score for  6  cluster is  38.93873974358974\n",
      "WCSS score for  7  cluster is  34.19068792479662\n",
      "WCSS score for  8  cluster is  29.905374299825105\n",
      "WCSS score for  9  cluster is  27.927882157034972\n",
      "WCSS score for  10  cluster is  25.95549708624709\n"
     ]
    }
   ],
   "source": [
    "#Finding the optimum number of clusters for k-means classification\n",
    "wcss = []\n",
    "\n",
    "for i in range(1, 11):\n",
    "    kmeans = KMeans(n_clusters = i, init = 'k-means++', max_iter = 300, n_init = 10, random_state = 0)\n",
    "    kmeans.fit(x)\n",
    "    wcss.append(kmeans.inertia_)\n",
    "    print(\"WCSS score for \", i, \" cluster is \", kmeans.inertia_)"
   ]
  },
  {
   "cell_type": "code",
   "execution_count": 7,
   "metadata": {},
   "outputs": [
    {
     "data": {
      "image/png": "[encoded data removed]",
      "text/plain": [
       "<Figure size 432x288 with 1 Axes>"
      ]
     },
     "metadata": {
      "needs_background": "light"
     },
     "output_type": "display_data"
    }
   ],
   "source": [
    "plt.plot(range(1, 11), wcss)\n",
    "plt.title('The elbow method')\n",
    "plt.xlabel('Number of clusters')\n",
    "plt.ylabel('WCSS') #within cluster sum of squares\n",
    "plt.savefig('elbowiris.png')\n",
    "plt.show()"
   ]
  },
  {
   "cell_type": "markdown",
   "metadata": {},
   "source": [
    "# 3 Clusters"
   ]
  },
  {
   "cell_type": "code",
   "execution_count": 8,
   "metadata": {},
   "outputs": [],
   "source": [
    "kmeans = KMeans(n_clusters = 3, init = 'k-means++', max_iter = 300, n_init = 10, random_state = 0)\n",
    "y_kmeans = kmeans.fit_predict(x)"
   ]
  },
  {
   "cell_type": "code",
   "execution_count": 9,
   "metadata": {},
   "outputs": [
    {
     "name": "stdout",
     "output_type": "stream",
     "text": [
      "(150, 2)\n"
     ]
    },
    {
     "data": {
      "text/html": [
       "<div>\n",
       "<style scoped>\n",
       "    .dataframe tbody tr th:only-of-type {\n",
       "        vertical-align: middle;\n",
       "    }\n",
       "\n",
       "    .dataframe tbody tr th {\n",
       "        vertical-align: top;\n",
       "    }\n",
       "\n",
       "    .dataframe thead th {\n",
       "        text-align: right;\n",
       "    }\n",
       "</style>\n",
       "<table border=\"1\" class=\"dataframe\">\n",
       "  <thead>\n",
       "    <tr style=\"text-align: right;\">\n",
       "      <th></th>\n",
       "      <th>class</th>\n",
       "      <th>Cluster</th>\n",
       "    </tr>\n",
       "  </thead>\n",
       "  <tbody>\n",
       "    <tr>\n",
       "      <th>96</th>\n",
       "      <td>Iris-versicolor</td>\n",
       "      <td>2</td>\n",
       "    </tr>\n",
       "    <tr>\n",
       "      <th>43</th>\n",
       "      <td>Iris-setosa</td>\n",
       "      <td>1</td>\n",
       "    </tr>\n",
       "    <tr>\n",
       "      <th>118</th>\n",
       "      <td>Iris-virginica</td>\n",
       "      <td>0</td>\n",
       "    </tr>\n",
       "    <tr>\n",
       "      <th>45</th>\n",
       "      <td>Iris-setosa</td>\n",
       "      <td>1</td>\n",
       "    </tr>\n",
       "    <tr>\n",
       "      <th>12</th>\n",
       "      <td>Iris-setosa</td>\n",
       "      <td>1</td>\n",
       "    </tr>\n",
       "  </tbody>\n",
       "</table>\n",
       "</div>"
      ],
      "text/plain": [
       "               class  Cluster\n",
       "96   Iris-versicolor        2\n",
       "43       Iris-setosa        1\n",
       "118   Iris-virginica        0\n",
       "45       Iris-setosa        1\n",
       "12       Iris-setosa        1"
      ]
     },
     "execution_count": 9,
     "metadata": {},
     "output_type": "execute_result"
    }
   ],
   "source": [
    "KM_clustered = x.copy()\n",
    "KM_clustered = pd.DataFrame(KM_clustered)\n",
    "KM_clustered.loc[:,'Cluster'] = kmeans.labels_ # append labels to points\n",
    "\n",
    "frames = [iris['class'], KM_clustered['Cluster']]\n",
    "result = pd.concat(frames, axis = 1)\n",
    "print(result.shape)\n",
    "result.sample(5)"
   ]
  },
  {
   "cell_type": "code",
   "execution_count": 10,
   "metadata": {},
   "outputs": [
    {
     "name": "stdout",
     "output_type": "stream",
     "text": [
      "0 Iris-virginica\n",
      "1 Iris-setosa\n",
      "2 Iris-versicolor\n"
     ]
    }
   ],
   "source": [
    "for ClusterNum in range(3):\n",
    "\n",
    "    OneCluster = pd.DataFrame(result[result['Cluster'] == ClusterNum].groupby('class').size())\n",
    "    OneCluster.columns=['Size']\n",
    "    \n",
    "    NewDigit = OneCluster.index[OneCluster['Size'] == OneCluster['Size'].max()].tolist()\n",
    "    NewDigit[0]\n",
    "\n",
    "    rowIndex = result.index[result['Cluster'] == ClusterNum]\n",
    "    result.loc[rowIndex, 'TransLabel'] = NewDigit[0]\n",
    "    \n",
    "    print(ClusterNum, NewDigit[0])"
   ]
  },
  {
   "cell_type": "code",
   "execution_count": 11,
   "metadata": {},
   "outputs": [
    {
     "name": "stdout",
     "output_type": "stream",
     "text": [
      "K-Means performance\n",
      "------------------------------------------------------------\n",
      "Accuracy  0.893\n",
      "silhouette:  0.735\n",
      "homogeneity_score:  0.751\n",
      "completeness_score:  0.765\n",
      "v_measure_score:  0.758\n",
      "adjusted_rand_score:  0.73\n",
      "adjusted_mutual_info_score:  0.755\n",
      "davies bouldin score:  0.662\n",
      "calinsku harabasz score:  560.4\n"
     ]
    }
   ],
   "source": [
    "# Check performance of classification to 3 clusters\n",
    "\n",
    "print('K-Means performance')\n",
    "print('-'*60)\n",
    "\n",
    "Correct = (iris['class'] == result['TransLabel']).sum()\n",
    "Accuracy = round(Correct/iris.shape[0],3)\n",
    "print('Accuracy ', Accuracy)\n",
    "\n",
    "# METRICS for clustering algorithms\n",
    "\n",
    "print('silhouette: ', round(metrics.silhouette_score(x, result['TransLabel'],metric='sqeuclidean'),3))\n",
    "print('homogeneity_score: ', round(metrics.homogeneity_score(iris['class'], result['TransLabel']),3))\n",
    "print('completeness_score: ', round(metrics.completeness_score(iris['class'], result['TransLabel']),3))\n",
    "print('v_measure_score: ', round(metrics.v_measure_score(iris['class'], result['TransLabel']),3))\n",
    "print('adjusted_rand_score: ', round(metrics.adjusted_rand_score(iris['class'], result['TransLabel']),3))\n",
    "print('adjusted_mutual_info_score: ', round(metrics.adjusted_mutual_info_score(iris['class'], result['TransLabel']),3))\n",
    "print('davies bouldin score: ', round(metrics.davies_bouldin_score(x, kmeans.labels_), 3))\n",
    "print('calinsku harabasz score: ', round(metrics.calinski_harabasz_score(x, kmeans.labels_), 3))"
   ]
  },
  {
   "cell_type": "code",
   "execution_count": 12,
   "metadata": {},
   "outputs": [
    {
     "data": {
      "text/html": [
       "<div>\n",
       "<style scoped>\n",
       "    .dataframe tbody tr th:only-of-type {\n",
       "        vertical-align: middle;\n",
       "    }\n",
       "\n",
       "    .dataframe tbody tr th {\n",
       "        vertical-align: top;\n",
       "    }\n",
       "\n",
       "    .dataframe thead th {\n",
       "        text-align: right;\n",
       "    }\n",
       "</style>\n",
       "<table border=\"1\" class=\"dataframe\">\n",
       "  <thead>\n",
       "    <tr style=\"text-align: right;\">\n",
       "      <th>col_0</th>\n",
       "      <th>0</th>\n",
       "      <th>1</th>\n",
       "      <th>2</th>\n",
       "    </tr>\n",
       "    <tr>\n",
       "      <th>class</th>\n",
       "      <th></th>\n",
       "      <th></th>\n",
       "      <th></th>\n",
       "    </tr>\n",
       "  </thead>\n",
       "  <tbody>\n",
       "    <tr>\n",
       "      <th>Iris-setosa</th>\n",
       "      <td>0</td>\n",
       "      <td>50</td>\n",
       "      <td>0</td>\n",
       "    </tr>\n",
       "    <tr>\n",
       "      <th>Iris-versicolor</th>\n",
       "      <td>2</td>\n",
       "      <td>0</td>\n",
       "      <td>48</td>\n",
       "    </tr>\n",
       "    <tr>\n",
       "      <th>Iris-virginica</th>\n",
       "      <td>36</td>\n",
       "      <td>0</td>\n",
       "      <td>14</td>\n",
       "    </tr>\n",
       "  </tbody>\n",
       "</table>\n",
       "</div>"
      ],
      "text/plain": [
       "col_0             0   1   2\n",
       "class                      \n",
       "Iris-setosa       0  50   0\n",
       "Iris-versicolor   2   0  48\n",
       "Iris-virginica   36   0  14"
      ]
     },
     "execution_count": 12,
     "metadata": {},
     "output_type": "execute_result"
    }
   ],
   "source": [
    "pd.crosstab(iris[\"class\"],kmeans.labels_)"
   ]
  },
  {
   "cell_type": "code",
   "execution_count": 13,
   "metadata": {},
   "outputs": [
    {
     "data": {
      "image/png": "[encoded data removed]",
      "text/plain": [
       "<Figure size 432x288 with 1 Axes>"
      ]
     },
     "metadata": {
      "needs_background": "light"
     },
     "output_type": "display_data"
    }
   ],
   "source": [
    "#Visualising the clusters\n",
    "plt.figure(figsize=(6,4))\n",
    "plt.scatter(x[y_kmeans == 0, 0], x[y_kmeans == 0, 1], s = 30, c = 'purple', label = 'Iris-virginica')\n",
    "plt.scatter(x[y_kmeans == 1, 0], x[y_kmeans == 1, 1], s = 30, c = 'orange', label = 'Iris-setosa')\n",
    "plt.scatter(x[y_kmeans == 2, 0], x[y_kmeans == 2, 1], s = 30, c = 'green', label = 'Iris-versicolor')\n",
    "\n",
    "#Plotting the centroids of the clusters\n",
    "plt.scatter(kmeans.cluster_centers_[:, 0], kmeans.cluster_centers_[:,1], s = 30, c = 'red', label = 'Centroids')\n",
    "plt.legend()\n",
    "plt.savefig('iris_rectangle.png')\n"
   ]
  },
  {
   "cell_type": "markdown",
   "metadata": {},
   "source": [
    "# Elkan Algorithm"
   ]
  },
  {
   "cell_type": "code",
   "execution_count": 14,
   "metadata": {},
   "outputs": [],
   "source": [
    "kmeans = KMeans(n_clusters = 3, init = 'k-means++', max_iter = 300, n_init = 10, random_state = 0, algorithm=\"elkan\")\n",
    "y_kmeans = kmeans.fit_predict(x)"
   ]
  },
  {
   "cell_type": "code",
   "execution_count": 15,
   "metadata": {},
   "outputs": [
    {
     "name": "stdout",
     "output_type": "stream",
     "text": [
      "(150, 2)\n"
     ]
    },
    {
     "data": {
      "text/html": [
       "<div>\n",
       "<style scoped>\n",
       "    .dataframe tbody tr th:only-of-type {\n",
       "        vertical-align: middle;\n",
       "    }\n",
       "\n",
       "    .dataframe tbody tr th {\n",
       "        vertical-align: top;\n",
       "    }\n",
       "\n",
       "    .dataframe thead th {\n",
       "        text-align: right;\n",
       "    }\n",
       "</style>\n",
       "<table border=\"1\" class=\"dataframe\">\n",
       "  <thead>\n",
       "    <tr style=\"text-align: right;\">\n",
       "      <th></th>\n",
       "      <th>class</th>\n",
       "      <th>Cluster</th>\n",
       "    </tr>\n",
       "  </thead>\n",
       "  <tbody>\n",
       "    <tr>\n",
       "      <th>68</th>\n",
       "      <td>Iris-versicolor</td>\n",
       "      <td>2</td>\n",
       "    </tr>\n",
       "    <tr>\n",
       "      <th>61</th>\n",
       "      <td>Iris-versicolor</td>\n",
       "      <td>2</td>\n",
       "    </tr>\n",
       "    <tr>\n",
       "      <th>2</th>\n",
       "      <td>Iris-setosa</td>\n",
       "      <td>1</td>\n",
       "    </tr>\n",
       "    <tr>\n",
       "      <th>63</th>\n",
       "      <td>Iris-versicolor</td>\n",
       "      <td>2</td>\n",
       "    </tr>\n",
       "    <tr>\n",
       "      <th>112</th>\n",
       "      <td>Iris-virginica</td>\n",
       "      <td>0</td>\n",
       "    </tr>\n",
       "  </tbody>\n",
       "</table>\n",
       "</div>"
      ],
      "text/plain": [
       "               class  Cluster\n",
       "68   Iris-versicolor        2\n",
       "61   Iris-versicolor        2\n",
       "2        Iris-setosa        1\n",
       "63   Iris-versicolor        2\n",
       "112   Iris-virginica        0"
      ]
     },
     "execution_count": 15,
     "metadata": {},
     "output_type": "execute_result"
    }
   ],
   "source": [
    "KM_clustered = x.copy()\n",
    "KM_clustered = pd.DataFrame(KM_clustered)\n",
    "KM_clustered.loc[:,'Cluster'] = kmeans.labels_ # append labels to points\n",
    "\n",
    "frames = [iris['class'], KM_clustered['Cluster']]\n",
    "result = pd.concat(frames, axis = 1)\n",
    "print(result.shape)\n",
    "result.sample(5)"
   ]
  },
  {
   "cell_type": "code",
   "execution_count": 16,
   "metadata": {},
   "outputs": [
    {
     "name": "stdout",
     "output_type": "stream",
     "text": [
      "0 Iris-virginica\n",
      "1 Iris-setosa\n",
      "2 Iris-versicolor\n"
     ]
    }
   ],
   "source": [
    "for ClusterNum in range(3):\n",
    "\n",
    "    OneCluster = pd.DataFrame(result[result['Cluster'] == ClusterNum].groupby('class').size())\n",
    "    OneCluster.columns=['Size']\n",
    "    \n",
    "    NewDigit = OneCluster.index[OneCluster['Size'] == OneCluster['Size'].max()].tolist()\n",
    "    NewDigit[0]\n",
    "\n",
    "    rowIndex = result.index[result['Cluster'] == ClusterNum]\n",
    "    result.loc[rowIndex, 'TransLabel'] = NewDigit[0]\n",
    "    \n",
    "    print(ClusterNum, NewDigit[0])"
   ]
  },
  {
   "cell_type": "code",
   "execution_count": 17,
   "metadata": {},
   "outputs": [
    {
     "name": "stdout",
     "output_type": "stream",
     "text": [
      "K-Means performance\n",
      "------------------------------------------------------------\n",
      "Accuracy  0.893\n",
      "silhouette:  0.735\n",
      "homogeneity_score:  0.751\n",
      "completeness_score:  0.765\n",
      "v_measure_score:  0.758\n",
      "adjusted_rand_score:  0.73\n",
      "adjusted_mutual_info_score:  0.755\n",
      "davies bouldin score:  0.662\n",
      "calinsku harabasz score:  560.4\n"
     ]
    }
   ],
   "source": [
    "# Check performance of classification to 3 clusters\n",
    "\n",
    "print('K-Means performance')\n",
    "print('-'*60)\n",
    "\n",
    "Correct = (iris['class'] == result['TransLabel']).sum()\n",
    "Accuracy = round(Correct/iris.shape[0],3)\n",
    "print('Accuracy ', Accuracy)\n",
    "\n",
    "# METRICS for clustering algorithms\n",
    "\n",
    "print('silhouette: ', round(metrics.silhouette_score(x, result['TransLabel'],metric='sqeuclidean'),3))\n",
    "print('homogeneity_score: ', round(metrics.homogeneity_score(iris['class'], result['TransLabel']),3))\n",
    "print('completeness_score: ', round(metrics.completeness_score(iris['class'], result['TransLabel']),3))\n",
    "print('v_measure_score: ', round(metrics.v_measure_score(iris['class'], result['TransLabel']),3))\n",
    "print('adjusted_rand_score: ', round(metrics.adjusted_rand_score(iris['class'], result['TransLabel']),3))\n",
    "print('adjusted_mutual_info_score: ', round(metrics.adjusted_mutual_info_score(iris['class'], result['TransLabel']),3))\n",
    "print('davies bouldin score: ', round(metrics.davies_bouldin_score(x, kmeans.labels_), 3))\n",
    "print('calinsku harabasz score: ', round(metrics.calinski_harabasz_score(x, kmeans.labels_), 3))"
   ]
  },
  {
   "cell_type": "markdown",
   "metadata": {},
   "source": [
    "# n_init = 1"
   ]
  },
  {
   "cell_type": "code",
   "execution_count": 18,
   "metadata": {},
   "outputs": [],
   "source": [
    "kmeans = KMeans(n_clusters = 3, init = 'k-means++', max_iter = 1, n_init = 1, random_state = 3)\n",
    "y_kmeans = kmeans.fit_predict(x)"
   ]
  },
  {
   "cell_type": "code",
   "execution_count": 19,
   "metadata": {},
   "outputs": [
    {
     "name": "stdout",
     "output_type": "stream",
     "text": [
      "(150, 2)\n"
     ]
    },
    {
     "data": {
      "text/html": [
       "<div>\n",
       "<style scoped>\n",
       "    .dataframe tbody tr th:only-of-type {\n",
       "        vertical-align: middle;\n",
       "    }\n",
       "\n",
       "    .dataframe tbody tr th {\n",
       "        vertical-align: top;\n",
       "    }\n",
       "\n",
       "    .dataframe thead th {\n",
       "        text-align: right;\n",
       "    }\n",
       "</style>\n",
       "<table border=\"1\" class=\"dataframe\">\n",
       "  <thead>\n",
       "    <tr style=\"text-align: right;\">\n",
       "      <th></th>\n",
       "      <th>class</th>\n",
       "      <th>Cluster</th>\n",
       "    </tr>\n",
       "  </thead>\n",
       "  <tbody>\n",
       "    <tr>\n",
       "      <th>66</th>\n",
       "      <td>Iris-versicolor</td>\n",
       "      <td>1</td>\n",
       "    </tr>\n",
       "    <tr>\n",
       "      <th>15</th>\n",
       "      <td>Iris-setosa</td>\n",
       "      <td>0</td>\n",
       "    </tr>\n",
       "    <tr>\n",
       "      <th>104</th>\n",
       "      <td>Iris-virginica</td>\n",
       "      <td>2</td>\n",
       "    </tr>\n",
       "    <tr>\n",
       "      <th>69</th>\n",
       "      <td>Iris-versicolor</td>\n",
       "      <td>1</td>\n",
       "    </tr>\n",
       "    <tr>\n",
       "      <th>59</th>\n",
       "      <td>Iris-versicolor</td>\n",
       "      <td>1</td>\n",
       "    </tr>\n",
       "  </tbody>\n",
       "</table>\n",
       "</div>"
      ],
      "text/plain": [
       "               class  Cluster\n",
       "66   Iris-versicolor        1\n",
       "15       Iris-setosa        0\n",
       "104   Iris-virginica        2\n",
       "69   Iris-versicolor        1\n",
       "59   Iris-versicolor        1"
      ]
     },
     "execution_count": 19,
     "metadata": {},
     "output_type": "execute_result"
    }
   ],
   "source": [
    "KM_clustered = x.copy()\n",
    "KM_clustered = pd.DataFrame(KM_clustered)\n",
    "KM_clustered.loc[:,'Cluster'] = kmeans.labels_ # append labels to points\n",
    "\n",
    "frames = [iris['class'], KM_clustered['Cluster']]\n",
    "result = pd.concat(frames, axis = 1)\n",
    "print(result.shape)\n",
    "result.sample(5)"
   ]
  },
  {
   "cell_type": "code",
   "execution_count": 20,
   "metadata": {},
   "outputs": [
    {
     "name": "stdout",
     "output_type": "stream",
     "text": [
      "0 Iris-setosa\n",
      "1 Iris-versicolor\n",
      "2 Iris-virginica\n"
     ]
    }
   ],
   "source": [
    "for ClusterNum in range(3):\n",
    "\n",
    "    OneCluster = pd.DataFrame(result[result['Cluster'] == ClusterNum].groupby('class').size())\n",
    "    OneCluster.columns=['Size']\n",
    "    \n",
    "    NewDigit = OneCluster.index[OneCluster['Size'] == OneCluster['Size'].max()].tolist()\n",
    "    NewDigit[0]\n",
    "\n",
    "    rowIndex = result.index[result['Cluster'] == ClusterNum]\n",
    "    result.loc[rowIndex, 'TransLabel'] = NewDigit[0]\n",
    "    \n",
    "    print(ClusterNum, NewDigit[0])"
   ]
  },
  {
   "cell_type": "code",
   "execution_count": 21,
   "metadata": {},
   "outputs": [
    {
     "name": "stdout",
     "output_type": "stream",
     "text": [
      "K-Means performance\n",
      "------------------------------------------------------------\n",
      "Accuracy  0.813\n",
      "silhouette:  0.698\n",
      "homogeneity_score:  0.67\n",
      "completeness_score:  0.737\n",
      "v_measure_score:  0.702\n",
      "adjusted_rand_score:  0.605\n",
      "adjusted_mutual_info_score:  0.698\n",
      "davies bouldin score:  0.649\n",
      "calinsku harabasz score:  483.337\n"
     ]
    }
   ],
   "source": [
    "# Check performance of classification to 3 clusters\n",
    "\n",
    "print('K-Means performance')\n",
    "print('-'*60)\n",
    "\n",
    "Correct = (iris['class'] == result['TransLabel']).sum()\n",
    "Accuracy = round(Correct/iris.shape[0],3)\n",
    "print('Accuracy ', Accuracy)\n",
    "\n",
    "# METRICS for clustering algorithms\n",
    "\n",
    "print('silhouette: ', round(metrics.silhouette_score(x, result['TransLabel'],metric='sqeuclidean'),3))\n",
    "print('homogeneity_score: ', round(metrics.homogeneity_score(iris['class'], result['TransLabel']),3))\n",
    "print('completeness_score: ', round(metrics.completeness_score(iris['class'], result['TransLabel']),3))\n",
    "print('v_measure_score: ', round(metrics.v_measure_score(iris['class'], result['TransLabel']),3))\n",
    "print('adjusted_rand_score: ', round(metrics.adjusted_rand_score(iris['class'], result['TransLabel']),3))\n",
    "print('adjusted_mutual_info_score: ', round(metrics.adjusted_mutual_info_score(iris['class'], result['TransLabel']),3))\n",
    "print('davies bouldin score: ', round(metrics.davies_bouldin_score(x, kmeans.labels_), 3))\n",
    "print('calinsku harabasz score: ', round(metrics.calinski_harabasz_score(x, kmeans.labels_), 3))"
   ]
  },
  {
   "cell_type": "markdown",
   "metadata": {},
   "source": [
    "# Random Initialization"
   ]
  },
  {
   "cell_type": "code",
   "execution_count": 22,
   "metadata": {},
   "outputs": [],
   "source": [
    "kmeans = KMeans(n_clusters = 3, init = 'random', max_iter = 1, n_init = 1, random_state = 100)\n",
    "y_kmeans = kmeans.fit_predict(x)"
   ]
  },
  {
   "cell_type": "code",
   "execution_count": 23,
   "metadata": {},
   "outputs": [
    {
     "name": "stdout",
     "output_type": "stream",
     "text": [
      "(150, 2)\n"
     ]
    },
    {
     "data": {
      "text/html": [
       "<div>\n",
       "<style scoped>\n",
       "    .dataframe tbody tr th:only-of-type {\n",
       "        vertical-align: middle;\n",
       "    }\n",
       "\n",
       "    .dataframe tbody tr th {\n",
       "        vertical-align: top;\n",
       "    }\n",
       "\n",
       "    .dataframe thead th {\n",
       "        text-align: right;\n",
       "    }\n",
       "</style>\n",
       "<table border=\"1\" class=\"dataframe\">\n",
       "  <thead>\n",
       "    <tr style=\"text-align: right;\">\n",
       "      <th></th>\n",
       "      <th>class</th>\n",
       "      <th>Cluster</th>\n",
       "    </tr>\n",
       "  </thead>\n",
       "  <tbody>\n",
       "    <tr>\n",
       "      <th>112</th>\n",
       "      <td>Iris-virginica</td>\n",
       "      <td>2</td>\n",
       "    </tr>\n",
       "    <tr>\n",
       "      <th>116</th>\n",
       "      <td>Iris-virginica</td>\n",
       "      <td>2</td>\n",
       "    </tr>\n",
       "    <tr>\n",
       "      <th>134</th>\n",
       "      <td>Iris-virginica</td>\n",
       "      <td>2</td>\n",
       "    </tr>\n",
       "    <tr>\n",
       "      <th>81</th>\n",
       "      <td>Iris-versicolor</td>\n",
       "      <td>0</td>\n",
       "    </tr>\n",
       "    <tr>\n",
       "      <th>52</th>\n",
       "      <td>Iris-versicolor</td>\n",
       "      <td>2</td>\n",
       "    </tr>\n",
       "  </tbody>\n",
       "</table>\n",
       "</div>"
      ],
      "text/plain": [
       "               class  Cluster\n",
       "112   Iris-virginica        2\n",
       "116   Iris-virginica        2\n",
       "134   Iris-virginica        2\n",
       "81   Iris-versicolor        0\n",
       "52   Iris-versicolor        2"
      ]
     },
     "execution_count": 23,
     "metadata": {},
     "output_type": "execute_result"
    }
   ],
   "source": [
    "KM_clustered = x.copy()\n",
    "KM_clustered = pd.DataFrame(KM_clustered)\n",
    "KM_clustered.loc[:,'Cluster'] = kmeans.labels_ # append labels to points\n",
    "\n",
    "frames = [iris['class'], KM_clustered['Cluster']]\n",
    "result = pd.concat(frames, axis = 1)\n",
    "print(result.shape)\n",
    "result.sample(5)"
   ]
  },
  {
   "cell_type": "code",
   "execution_count": 24,
   "metadata": {},
   "outputs": [
    {
     "name": "stdout",
     "output_type": "stream",
     "text": [
      "0 Iris-versicolor\n",
      "1 Iris-setosa\n",
      "2 Iris-virginica\n"
     ]
    }
   ],
   "source": [
    "for ClusterNum in range(3):\n",
    "\n",
    "    OneCluster = pd.DataFrame(result[result['Cluster'] == ClusterNum].groupby('class').size())\n",
    "    OneCluster.columns=['Size']\n",
    "    \n",
    "    NewDigit = OneCluster.index[OneCluster['Size'] == OneCluster['Size'].max()].tolist()\n",
    "    NewDigit[0]\n",
    "\n",
    "    rowIndex = result.index[result['Cluster'] == ClusterNum]\n",
    "    result.loc[rowIndex, 'TransLabel'] = NewDigit[0]\n",
    "    \n",
    "    print(ClusterNum, NewDigit[0])"
   ]
  },
  {
   "cell_type": "code",
   "execution_count": 25,
   "metadata": {},
   "outputs": [
    {
     "name": "stdout",
     "output_type": "stream",
     "text": [
      "K-Means performance\n",
      "------------------------------------------------------------\n",
      "Accuracy  0.84\n",
      "silhouette:  0.664\n",
      "homogeneity_score:  0.7\n",
      "completeness_score:  0.745\n",
      "v_measure_score:  0.722\n",
      "adjusted_rand_score:  0.642\n",
      "adjusted_mutual_info_score:  0.718\n",
      "davies bouldin score:  0.634\n",
      "calinsku harabasz score:  484.899\n"
     ]
    }
   ],
   "source": [
    "# Check performance of classification to 3 clusters\n",
    "\n",
    "print('K-Means performance')\n",
    "print('-'*60)\n",
    "\n",
    "Correct = (iris['class'] == result['TransLabel']).sum()\n",
    "Accuracy = round(Correct/iris.shape[0],3)\n",
    "print('Accuracy ', Accuracy)\n",
    "\n",
    "# METRICS for clustering algorithms\n",
    "\n",
    "print('silhouette: ', round(metrics.silhouette_score(x, result['TransLabel'],metric='sqeuclidean'),3))\n",
    "print('homogeneity_score: ', round(metrics.homogeneity_score(iris['class'], result['TransLabel']),3))\n",
    "print('completeness_score: ', round(metrics.completeness_score(iris['class'], result['TransLabel']),3))\n",
    "print('v_measure_score: ', round(metrics.v_measure_score(iris['class'], result['TransLabel']),3))\n",
    "print('adjusted_rand_score: ', round(metrics.adjusted_rand_score(iris['class'], result['TransLabel']),3))\n",
    "print('adjusted_mutual_info_score: ', round(metrics.adjusted_mutual_info_score(iris['class'], result['TransLabel']),3))\n",
    "print('davies bouldin score: ', round(metrics.davies_bouldin_score(x, kmeans.labels_), 3))\n",
    "print('calinsku harabasz score: ', round(metrics.calinski_harabasz_score(x, kmeans.labels_), 3))"
   ]
  },
  {
   "cell_type": "markdown",
   "metadata": {},
   "source": [
    "# Mini Batch"
   ]
  },
  {
   "cell_type": "code",
   "execution_count": 26,
   "metadata": {},
   "outputs": [],
   "source": [
    "# Create k-mean object\n",
    "clustering = MiniBatchKMeans(n_clusters=3, random_state=0, batch_size=50)\n",
    "\n",
    "# Train model\n",
    "model = clustering.fit(x)"
   ]
  },
  {
   "cell_type": "code",
   "execution_count": 27,
   "metadata": {},
   "outputs": [
    {
     "data": {
      "text/html": [
       "<div>\n",
       "<style scoped>\n",
       "    .dataframe tbody tr th:only-of-type {\n",
       "        vertical-align: middle;\n",
       "    }\n",
       "\n",
       "    .dataframe tbody tr th {\n",
       "        vertical-align: top;\n",
       "    }\n",
       "\n",
       "    .dataframe thead th {\n",
       "        text-align: right;\n",
       "    }\n",
       "</style>\n",
       "<table border=\"1\" class=\"dataframe\">\n",
       "  <thead>\n",
       "    <tr style=\"text-align: right;\">\n",
       "      <th>col_0</th>\n",
       "      <th>0</th>\n",
       "      <th>1</th>\n",
       "      <th>2</th>\n",
       "    </tr>\n",
       "    <tr>\n",
       "      <th>class</th>\n",
       "      <th></th>\n",
       "      <th></th>\n",
       "      <th></th>\n",
       "    </tr>\n",
       "  </thead>\n",
       "  <tbody>\n",
       "    <tr>\n",
       "      <th>Iris-setosa</th>\n",
       "      <td>0</td>\n",
       "      <td>50</td>\n",
       "      <td>0</td>\n",
       "    </tr>\n",
       "    <tr>\n",
       "      <th>Iris-versicolor</th>\n",
       "      <td>48</td>\n",
       "      <td>0</td>\n",
       "      <td>2</td>\n",
       "    </tr>\n",
       "    <tr>\n",
       "      <th>Iris-virginica</th>\n",
       "      <td>15</td>\n",
       "      <td>0</td>\n",
       "      <td>35</td>\n",
       "    </tr>\n",
       "  </tbody>\n",
       "</table>\n",
       "</div>"
      ],
      "text/plain": [
       "col_0             0   1   2\n",
       "class                      \n",
       "Iris-setosa       0  50   0\n",
       "Iris-versicolor  48   0   2\n",
       "Iris-virginica   15   0  35"
      ]
     },
     "execution_count": 27,
     "metadata": {},
     "output_type": "execute_result"
    }
   ],
   "source": [
    "pd.crosstab(iris[\"class\"],model.labels_)"
   ]
  },
  {
   "cell_type": "code",
   "execution_count": 28,
   "metadata": {},
   "outputs": [
    {
     "name": "stdout",
     "output_type": "stream",
     "text": [
      "number of estimated clusters : 3\n",
      "0 Iris-versicolor\n",
      "1 Iris-setosa\n",
      "2 Iris-virginica\n"
     ]
    }
   ],
   "source": [
    "# Mini Batch K-Means Clustering\n",
    "\n",
    "sc = MiniBatchKMeans(n_clusters = 3)\n",
    "sc.fit(x)\n",
    "labels = sc.labels_\n",
    "\n",
    "labels_unique = np.unique(labels)\n",
    "n_clusters_ = len(labels_unique)\n",
    "print(\"number of estimated clusters : %d\" % n_clusters_)\n",
    "\n",
    "Clustered = x.copy()\n",
    "Clustered = pd.DataFrame(Clustered)\n",
    "Clustered.loc[:,'Cluster'] = sc.labels_ # append labels to points\n",
    "#Clustered.sample(5)\n",
    "\n",
    "frames = [iris['class'], Clustered['Cluster']]\n",
    "result = pd.concat(frames, axis = 1)\n",
    "#print(result.shape)\n",
    "#result.sample(5)\n",
    "for ClusterNum in range(3):\n",
    "\n",
    "    OneCluster = pd.DataFrame(result[result['Cluster'] == ClusterNum].groupby('class').size())\n",
    "    OneCluster.columns=['Size']\n",
    "    \n",
    "    NewDigit = OneCluster.index[OneCluster['Size'] == OneCluster['Size'].max()].tolist()\n",
    "    NewDigit[0]\n",
    "\n",
    "    rowIndex = result.index[result['Cluster'] == ClusterNum]\n",
    "    result.loc[rowIndex, 'TransLabel'] = NewDigit[0]\n",
    "    \n",
    "    print(ClusterNum, NewDigit[0])"
   ]
  },
  {
   "cell_type": "code",
   "execution_count": 29,
   "metadata": {},
   "outputs": [
    {
     "name": "stdout",
     "output_type": "stream",
     "text": [
      "Mini Batch K-Means clustering performance\n",
      "------------------------------------------------------------\n",
      "Accuracy  0.887\n",
      "silhouette:  0.734\n",
      "homogeneity_score:  0.736\n",
      "completeness_score:  0.747\n",
      "v_measure_score:  0.742\n",
      "adjusted_rand_score:  0.716\n",
      "adjusted_mutual_info_score:  0.739\n",
      "davies bouldin score:  0.634\n",
      "calinsku harabasz score:  484.899\n"
     ]
    }
   ],
   "source": [
    "# Check performance of classification to 3 clusters\n",
    "\n",
    "print('Mini Batch K-Means clustering performance')\n",
    "print('-'*60)\n",
    "\n",
    "Correct = (iris['class'] == result['TransLabel']).sum()\n",
    "Accuracy = round(Correct/iris.shape[0],3)\n",
    "print('Accuracy ', Accuracy)\n",
    "\n",
    "# METRICS for clustering algorithms\n",
    "\n",
    "print('silhouette: ', round(metrics.silhouette_score(x, result['TransLabel'],metric='sqeuclidean'),3))\n",
    "print('homogeneity_score: ', round(metrics.homogeneity_score(iris['class'], result['TransLabel']),3))\n",
    "print('completeness_score: ', round(metrics.completeness_score(iris['class'], result['TransLabel']),3))\n",
    "print('v_measure_score: ', round(metrics.v_measure_score(iris['class'], result['TransLabel']),3))\n",
    "print('adjusted_rand_score: ', round(metrics.adjusted_rand_score(iris['class'], result['TransLabel']),3))\n",
    "print('adjusted_mutual_info_score: ', round(metrics.adjusted_mutual_info_score(iris['class'], result['TransLabel']),3))\n",
    "print('davies bouldin score: ', round(metrics.davies_bouldin_score(x, kmeans.labels_), 3))\n",
    "print('calinsku harabasz score: ', round(metrics.calinski_harabasz_score(x, kmeans.labels_), 3))"
   ]
  },
  {
   "cell_type": "markdown",
   "metadata": {},
   "source": [
    "# Spiral Dataset"
   ]
  },
  {
   "cell_type": "code",
   "execution_count": 30,
   "metadata": {},
   "outputs": [],
   "source": [
    "spiral = pd.read_csv(\"spiral.csv\")\n",
    "x = spiral.iloc[:, [0, 1]].values"
   ]
  },
  {
   "cell_type": "code",
   "execution_count": 31,
   "metadata": {},
   "outputs": [
    {
     "data": {
      "text/html": [
       "<div>\n",
       "<style scoped>\n",
       "    .dataframe tbody tr th:only-of-type {\n",
       "        vertical-align: middle;\n",
       "    }\n",
       "\n",
       "    .dataframe tbody tr th {\n",
       "        vertical-align: top;\n",
       "    }\n",
       "\n",
       "    .dataframe thead th {\n",
       "        text-align: right;\n",
       "    }\n",
       "</style>\n",
       "<table border=\"1\" class=\"dataframe\">\n",
       "  <thead>\n",
       "    <tr style=\"text-align: right;\">\n",
       "      <th></th>\n",
       "      <th>2</th>\n",
       "      <th>1</th>\n",
       "      <th>class</th>\n",
       "    </tr>\n",
       "  </thead>\n",
       "  <tbody>\n",
       "    <tr>\n",
       "      <th>0</th>\n",
       "      <td>0.500000</td>\n",
       "      <td>0.907692</td>\n",
       "      <td>0</td>\n",
       "    </tr>\n",
       "    <tr>\n",
       "      <th>1</th>\n",
       "      <td>0.578786</td>\n",
       "      <td>0.896086</td>\n",
       "      <td>0</td>\n",
       "    </tr>\n",
       "    <tr>\n",
       "      <th>2</th>\n",
       "      <td>0.653073</td>\n",
       "      <td>0.869552</td>\n",
       "      <td>0</td>\n",
       "    </tr>\n",
       "    <tr>\n",
       "      <th>3</th>\n",
       "      <td>0.720091</td>\n",
       "      <td>0.829390</td>\n",
       "      <td>0</td>\n",
       "    </tr>\n",
       "    <tr>\n",
       "      <th>4</th>\n",
       "      <td>0.777403</td>\n",
       "      <td>0.777403</td>\n",
       "      <td>0</td>\n",
       "    </tr>\n",
       "  </tbody>\n",
       "</table>\n",
       "</div>"
      ],
      "text/plain": [
       "          2         1  class\n",
       "0  0.500000  0.907692      0\n",
       "1  0.578786  0.896086      0\n",
       "2  0.653073  0.869552      0\n",
       "3  0.720091  0.829390      0\n",
       "4  0.777403  0.777403      0"
      ]
     },
     "execution_count": 31,
     "metadata": {},
     "output_type": "execute_result"
    }
   ],
   "source": [
    "# iris.info()\n",
    "spiral[0:5]"
   ]
  },
  {
   "cell_type": "code",
   "execution_count": 32,
   "metadata": {},
   "outputs": [
    {
     "data": {
      "text/html": [
       "<div>\n",
       "<style scoped>\n",
       "    .dataframe tbody tr th:only-of-type {\n",
       "        vertical-align: middle;\n",
       "    }\n",
       "\n",
       "    .dataframe tbody tr th {\n",
       "        vertical-align: top;\n",
       "    }\n",
       "\n",
       "    .dataframe thead th {\n",
       "        text-align: right;\n",
       "    }\n",
       "</style>\n",
       "<table border=\"1\" class=\"dataframe\">\n",
       "  <thead>\n",
       "    <tr style=\"text-align: right;\">\n",
       "      <th>col_0</th>\n",
       "      <th>count</th>\n",
       "    </tr>\n",
       "    <tr>\n",
       "      <th>class</th>\n",
       "      <th></th>\n",
       "    </tr>\n",
       "  </thead>\n",
       "  <tbody>\n",
       "    <tr>\n",
       "      <th>0</th>\n",
       "      <td>97</td>\n",
       "    </tr>\n",
       "    <tr>\n",
       "      <th>1</th>\n",
       "      <td>97</td>\n",
       "    </tr>\n",
       "  </tbody>\n",
       "</table>\n",
       "</div>"
      ],
      "text/plain": [
       "col_0  count\n",
       "class       \n",
       "0         97\n",
       "1         97"
      ]
     },
     "execution_count": 32,
     "metadata": {},
     "output_type": "execute_result"
    }
   ],
   "source": [
    "#Frequency distribution of species\"\n",
    "spiral_outcome = pd.crosstab(index=spiral[\"class\"],  # Make a crosstab\n",
    "                              columns=\"count\")      # Name the count column\n",
    "\n",
    "spiral_outcome"
   ]
  },
  {
   "cell_type": "code",
   "execution_count": 33,
   "metadata": {},
   "outputs": [
    {
     "data": {
      "image/png": "[encoded data removed]",
      "text/plain": [
       "<Figure size 432x288 with 1 Axes>"
      ]
     },
     "metadata": {
      "needs_background": "light"
     },
     "output_type": "display_data"
    }
   ],
   "source": [
    "#Visualising the clusters\n",
    "plt.scatter(x[spiral[\"class\"] == 0, 0], x[spiral[\"class\"] == 0, 1], s = 30, c = 'purple', label = '0')\n",
    "plt.scatter(x[spiral[\"class\"] == 1, 0], x[spiral[\"class\"] == 1, 1], s = 30, c = 'orange', label = '1')\n",
    "\n",
    "plt.legend()\n",
    "plt.savefig('spiralgt.png')"
   ]
  },
  {
   "cell_type": "code",
   "execution_count": 34,
   "metadata": {},
   "outputs": [],
   "source": [
    "spiral_0=spiral.loc[spiral[\"class\"]==0]\n",
    "spiral_1=spiral.loc[spiral[\"class\"]==1]"
   ]
  },
  {
   "cell_type": "code",
   "execution_count": 35,
   "metadata": {},
   "outputs": [
    {
     "name": "stdout",
     "output_type": "stream",
     "text": [
      "WCSS score for  1  cluster is  11.90402053842929\n",
      "WCSS score for  2  cluster is  7.774832893146352\n",
      "WCSS score for  3  cluster is  5.269182229641045\n",
      "WCSS score for  4  cluster is  3.9501407985917174\n",
      "WCSS score for  5  cluster is  3.2132376319906553\n",
      "WCSS score for  6  cluster is  2.601640477385388\n",
      "WCSS score for  7  cluster is  2.2096959693977336\n",
      "WCSS score for  8  cluster is  1.9552753871407433\n",
      "WCSS score for  9  cluster is  1.7343015955587782\n",
      "WCSS score for  10  cluster is  1.5330601104537371\n"
     ]
    }
   ],
   "source": [
    "wcss = []\n",
    "\n",
    "for i in range(1, 11):\n",
    "    kmeans = KMeans(n_clusters = i, init = 'k-means++', max_iter = 300, n_init = 10, random_state = 0)\n",
    "    kmeans.fit(x)\n",
    "    wcss.append(kmeans.inertia_)\n",
    "    print(\"WCSS score for \", i, \" cluster is \", kmeans.inertia_)"
   ]
  },
  {
   "cell_type": "code",
   "execution_count": 36,
   "metadata": {},
   "outputs": [
    {
     "data": {
      "image/png": "[encoded data removed]",
      "text/plain": [
       "<Figure size 432x288 with 1 Axes>"
      ]
     },
     "metadata": {
      "needs_background": "light"
     },
     "output_type": "display_data"
    }
   ],
   "source": [
    "plt.plot(range(1, 11), wcss)\n",
    "plt.title('The elbow method')\n",
    "plt.xlabel('Number of clusters')\n",
    "plt.ylabel('WCSS') #within cluster sum of squares\n",
    "plt.savefig('spiralelbow2.png')\n",
    "plt.show()\n"
   ]
  },
  {
   "cell_type": "markdown",
   "metadata": {},
   "source": [
    "# 4 clusters"
   ]
  },
  {
   "cell_type": "code",
   "execution_count": 37,
   "metadata": {},
   "outputs": [],
   "source": [
    "kmeans = KMeans(n_clusters = 4, init = 'k-means++', max_iter = 300, n_init = 10, random_state = 0)\n",
    "y_kmeans = kmeans.fit_predict(x)"
   ]
  },
  {
   "cell_type": "code",
   "execution_count": 38,
   "metadata": {},
   "outputs": [
    {
     "data": {
      "text/html": [
       "<div>\n",
       "<style scoped>\n",
       "    .dataframe tbody tr th:only-of-type {\n",
       "        vertical-align: middle;\n",
       "    }\n",
       "\n",
       "    .dataframe tbody tr th {\n",
       "        vertical-align: top;\n",
       "    }\n",
       "\n",
       "    .dataframe thead th {\n",
       "        text-align: right;\n",
       "    }\n",
       "</style>\n",
       "<table border=\"1\" class=\"dataframe\">\n",
       "  <thead>\n",
       "    <tr style=\"text-align: right;\">\n",
       "      <th>col_0</th>\n",
       "      <th>0</th>\n",
       "      <th>1</th>\n",
       "      <th>2</th>\n",
       "      <th>3</th>\n",
       "    </tr>\n",
       "    <tr>\n",
       "      <th>class</th>\n",
       "      <th></th>\n",
       "      <th></th>\n",
       "      <th></th>\n",
       "      <th></th>\n",
       "    </tr>\n",
       "  </thead>\n",
       "  <tbody>\n",
       "    <tr>\n",
       "      <th>0</th>\n",
       "      <td>22</td>\n",
       "      <td>27</td>\n",
       "      <td>28</td>\n",
       "      <td>20</td>\n",
       "    </tr>\n",
       "    <tr>\n",
       "      <th>1</th>\n",
       "      <td>21</td>\n",
       "      <td>29</td>\n",
       "      <td>26</td>\n",
       "      <td>21</td>\n",
       "    </tr>\n",
       "  </tbody>\n",
       "</table>\n",
       "</div>"
      ],
      "text/plain": [
       "col_0   0   1   2   3\n",
       "class                \n",
       "0      22  27  28  20\n",
       "1      21  29  26  21"
      ]
     },
     "execution_count": 38,
     "metadata": {},
     "output_type": "execute_result"
    }
   ],
   "source": [
    "pd.crosstab(spiral[\"class\"],kmeans.labels_)"
   ]
  },
  {
   "cell_type": "code",
   "execution_count": 39,
   "metadata": {},
   "outputs": [
    {
     "name": "stdout",
     "output_type": "stream",
     "text": [
      "(194, 2)\n"
     ]
    },
    {
     "data": {
      "text/html": [
       "<div>\n",
       "<style scoped>\n",
       "    .dataframe tbody tr th:only-of-type {\n",
       "        vertical-align: middle;\n",
       "    }\n",
       "\n",
       "    .dataframe tbody tr th {\n",
       "        vertical-align: top;\n",
       "    }\n",
       "\n",
       "    .dataframe thead th {\n",
       "        text-align: right;\n",
       "    }\n",
       "</style>\n",
       "<table border=\"1\" class=\"dataframe\">\n",
       "  <thead>\n",
       "    <tr style=\"text-align: right;\">\n",
       "      <th></th>\n",
       "      <th>class</th>\n",
       "      <th>Cluster</th>\n",
       "    </tr>\n",
       "  </thead>\n",
       "  <tbody>\n",
       "    <tr>\n",
       "      <th>73</th>\n",
       "      <td>0</td>\n",
       "      <td>1</td>\n",
       "    </tr>\n",
       "    <tr>\n",
       "      <th>46</th>\n",
       "      <td>0</td>\n",
       "      <td>1</td>\n",
       "    </tr>\n",
       "    <tr>\n",
       "      <th>83</th>\n",
       "      <td>0</td>\n",
       "      <td>3</td>\n",
       "    </tr>\n",
       "    <tr>\n",
       "      <th>59</th>\n",
       "      <td>0</td>\n",
       "      <td>2</td>\n",
       "    </tr>\n",
       "    <tr>\n",
       "      <th>37</th>\n",
       "      <td>0</td>\n",
       "      <td>0</td>\n",
       "    </tr>\n",
       "  </tbody>\n",
       "</table>\n",
       "</div>"
      ],
      "text/plain": [
       "    class  Cluster\n",
       "73      0        1\n",
       "46      0        1\n",
       "83      0        3\n",
       "59      0        2\n",
       "37      0        0"
      ]
     },
     "execution_count": 39,
     "metadata": {},
     "output_type": "execute_result"
    }
   ],
   "source": [
    "KM_clustered = x.copy()\n",
    "KM_clustered = pd.DataFrame(KM_clustered)\n",
    "KM_clustered.loc[:,'Cluster'] = kmeans.labels_ # append labels to points\n",
    "\n",
    "frames = [spiral['class'], KM_clustered['Cluster']]\n",
    "result = pd.concat(frames, axis = 1)\n",
    "print(result.shape)\n",
    "result.sample(5)"
   ]
  },
  {
   "cell_type": "code",
   "execution_count": 40,
   "metadata": {},
   "outputs": [
    {
     "name": "stdout",
     "output_type": "stream",
     "text": [
      "0 0\n",
      "1 1\n",
      "2 0\n",
      "3 1\n"
     ]
    }
   ],
   "source": [
    "for ClusterNum in range(4):\n",
    "\n",
    "    OneCluster = pd.DataFrame(result[result['Cluster'] == ClusterNum].groupby('class').size())\n",
    "    OneCluster.columns=['Size']\n",
    "    \n",
    "    NewDigit = OneCluster.index[OneCluster['Size'] == OneCluster['Size'].max()].tolist()\n",
    "    NewDigit[0]\n",
    "\n",
    "    rowIndex = result.index[result['Cluster'] == ClusterNum]\n",
    "    result.loc[rowIndex, 'TransLabel'] = NewDigit[0]\n",
    "    \n",
    "    print(ClusterNum, NewDigit[0])"
   ]
  },
  {
   "cell_type": "code",
   "execution_count": 41,
   "metadata": {},
   "outputs": [
    {
     "name": "stdout",
     "output_type": "stream",
     "text": [
      "K-Means performance\n",
      "------------------------------------------------------------\n",
      "Accuracy  0.515\n",
      "silhouette:  0.435\n",
      "homogeneity_score:  0.001\n",
      "completeness_score:  0.001\n",
      "v_measure_score:  0.001\n",
      "adjusted_rand_score:  -0.004\n",
      "adjusted_mutual_info_score:  -0.003\n",
      "davies bouldin score:  0.915\n",
      "calinsku harabasz score:  127.526\n"
     ]
    }
   ],
   "source": [
    "# Check performance of classification to 3 clusters\n",
    "\n",
    "print('K-Means performance')\n",
    "print('-'*60)\n",
    "\n",
    "Correct = (spiral['class'] == result['TransLabel']).sum()\n",
    "Accuracy = round(Correct/spiral.shape[0],3)\n",
    "print('Accuracy ', Accuracy)\n",
    "\n",
    "# METRICS for clustering algorithms\n",
    "\n",
    "print('silhouette: ', round(metrics.silhouette_score(x, result['TransLabel'],metric='sqeuclidean'),3))\n",
    "print('homogeneity_score: ', round(metrics.homogeneity_score(spiral['class'], result['TransLabel']),3))\n",
    "print('completeness_score: ', round(metrics.completeness_score(spiral['class'], result['TransLabel']),3))\n",
    "print('v_measure_score: ', round(metrics.v_measure_score(spiral['class'], result['TransLabel']),3))\n",
    "print('adjusted_rand_score: ', round(metrics.adjusted_rand_score(spiral['class'], result['TransLabel']),3))\n",
    "print('adjusted_mutual_info_score: ', round(metrics.adjusted_mutual_info_score(spiral['class'], result['TransLabel']),3))\n",
    "print('davies bouldin score: ', round(metrics.davies_bouldin_score(x, kmeans.labels_), 3))\n",
    "print('calinsku harabasz score: ', round(metrics.calinski_harabasz_score(x, kmeans.labels_), 3))"
   ]
  },
  {
   "cell_type": "code",
   "execution_count": 42,
   "metadata": {},
   "outputs": [
    {
     "data": {
      "text/plain": [
       "<matplotlib.legend.Legend at 0x23584344bc8>"
      ]
     },
     "execution_count": 42,
     "metadata": {},
     "output_type": "execute_result"
    },
    {
     "data": {
      "image/png": "[encoded data removed]",
      "text/plain": [
       "<Figure size 432x432 with 1 Axes>"
      ]
     },
     "metadata": {
      "needs_background": "light"
     },
     "output_type": "display_data"
    }
   ],
   "source": [
    "#Visualising the clusters\n",
    "plt.figure(figsize=(6,6))\n",
    "plt.scatter(x[y_kmeans == 0, 0], x[y_kmeans == 0, 1], s = 30, c = 'purple', label = '0')\n",
    "plt.scatter(x[y_kmeans == 1, 0], x[y_kmeans == 1, 1], s = 30, c = 'orange', label = '1')\n",
    "plt.scatter(x[y_kmeans == 2, 0], x[y_kmeans == 2, 1], s = 30, c = 'green', label = '0')\n",
    "plt.scatter(x[y_kmeans == 3, 0], x[y_kmeans == 3, 1], s = 30, c = 'red', label = '1')\n",
    "\n",
    "plt.legend()\n",
    "# plt.savefig('spiral_square.png')"
   ]
  },
  {
   "cell_type": "markdown",
   "metadata": {},
   "source": [
    "# n_init = 1"
   ]
  },
  {
   "cell_type": "code",
   "execution_count": 43,
   "metadata": {},
   "outputs": [],
   "source": [
    "kmeans = KMeans(n_clusters = 4, init = 'k-means++', max_iter = 1, n_init = 1, random_state = 3)\n",
    "y_kmeans = kmeans.fit_predict(x)"
   ]
  },
  {
   "cell_type": "code",
   "execution_count": 44,
   "metadata": {},
   "outputs": [
    {
     "name": "stdout",
     "output_type": "stream",
     "text": [
      "(194, 2)\n"
     ]
    },
    {
     "data": {
      "text/html": [
       "<div>\n",
       "<style scoped>\n",
       "    .dataframe tbody tr th:only-of-type {\n",
       "        vertical-align: middle;\n",
       "    }\n",
       "\n",
       "    .dataframe tbody tr th {\n",
       "        vertical-align: top;\n",
       "    }\n",
       "\n",
       "    .dataframe thead th {\n",
       "        text-align: right;\n",
       "    }\n",
       "</style>\n",
       "<table border=\"1\" class=\"dataframe\">\n",
       "  <thead>\n",
       "    <tr style=\"text-align: right;\">\n",
       "      <th></th>\n",
       "      <th>class</th>\n",
       "      <th>Cluster</th>\n",
       "    </tr>\n",
       "  </thead>\n",
       "  <tbody>\n",
       "    <tr>\n",
       "      <th>21</th>\n",
       "      <td>0</td>\n",
       "      <td>1</td>\n",
       "    </tr>\n",
       "    <tr>\n",
       "      <th>18</th>\n",
       "      <td>0</td>\n",
       "      <td>1</td>\n",
       "    </tr>\n",
       "    <tr>\n",
       "      <th>106</th>\n",
       "      <td>1</td>\n",
       "      <td>3</td>\n",
       "    </tr>\n",
       "    <tr>\n",
       "      <th>144</th>\n",
       "      <td>1</td>\n",
       "      <td>3</td>\n",
       "    </tr>\n",
       "    <tr>\n",
       "      <th>3</th>\n",
       "      <td>0</td>\n",
       "      <td>0</td>\n",
       "    </tr>\n",
       "  </tbody>\n",
       "</table>\n",
       "</div>"
      ],
      "text/plain": [
       "     class  Cluster\n",
       "21       0        1\n",
       "18       0        1\n",
       "106      1        3\n",
       "144      1        3\n",
       "3        0        0"
      ]
     },
     "execution_count": 44,
     "metadata": {},
     "output_type": "execute_result"
    }
   ],
   "source": [
    "KM_clustered = x.copy()\n",
    "KM_clustered = pd.DataFrame(KM_clustered)\n",
    "KM_clustered.loc[:,'Cluster'] = kmeans.labels_ # append labels to points\n",
    "\n",
    "frames = [spiral['class'], KM_clustered['Cluster']]\n",
    "result = pd.concat(frames, axis = 1)\n",
    "print(result.shape)\n",
    "result.sample(5)"
   ]
  },
  {
   "cell_type": "code",
   "execution_count": 45,
   "metadata": {},
   "outputs": [
    {
     "name": "stdout",
     "output_type": "stream",
     "text": [
      "0 0\n",
      "1 1\n",
      "2 0\n",
      "3 1\n"
     ]
    }
   ],
   "source": [
    "for ClusterNum in range(4):\n",
    "\n",
    "    OneCluster = pd.DataFrame(result[result['Cluster'] == ClusterNum].groupby('class').size())\n",
    "    OneCluster.columns=['Size']\n",
    "    \n",
    "    NewDigit = OneCluster.index[OneCluster['Size'] == OneCluster['Size'].max()].tolist()\n",
    "    NewDigit[0]\n",
    "\n",
    "    rowIndex = result.index[result['Cluster'] == ClusterNum]\n",
    "    result.loc[rowIndex, 'TransLabel'] = NewDigit[0]\n",
    "    \n",
    "    print(ClusterNum, NewDigit[0])"
   ]
  },
  {
   "cell_type": "code",
   "execution_count": 46,
   "metadata": {},
   "outputs": [
    {
     "name": "stdout",
     "output_type": "stream",
     "text": [
      "K-Means performance\n",
      "------------------------------------------------------------\n",
      "Accuracy  0.541\n",
      "silhouette:  0.41\n",
      "homogeneity_score:  0.005\n",
      "completeness_score:  0.005\n",
      "v_measure_score:  0.005\n",
      "adjusted_rand_score:  0.002\n",
      "adjusted_mutual_info_score:  0.001\n",
      "davies bouldin score:  0.915\n",
      "calinsku harabasz score:  111.932\n"
     ]
    }
   ],
   "source": [
    "# Check performance of classification to 3 clusters\n",
    "\n",
    "print('K-Means performance')\n",
    "print('-'*60)\n",
    "\n",
    "Correct = (spiral['class'] == result['TransLabel']).sum()\n",
    "Accuracy = round(Correct/spiral.shape[0],3)\n",
    "print('Accuracy ', Accuracy)\n",
    "\n",
    "# METRICS for clustering algorithms\n",
    "\n",
    "print('silhouette: ', round(metrics.silhouette_score(x, result['TransLabel'],metric='sqeuclidean'),3))\n",
    "print('homogeneity_score: ', round(metrics.homogeneity_score(spiral['class'], result['TransLabel']),3))\n",
    "print('completeness_score: ', round(metrics.completeness_score(spiral['class'], result['TransLabel']),3))\n",
    "print('v_measure_score: ', round(metrics.v_measure_score(spiral['class'], result['TransLabel']),3))\n",
    "print('adjusted_rand_score: ', round(metrics.adjusted_rand_score(spiral['class'], result['TransLabel']),3))\n",
    "print('adjusted_mutual_info_score: ', round(metrics.adjusted_mutual_info_score(spiral['class'], result['TransLabel']),3))\n",
    "print('davies bouldin score: ', round(metrics.davies_bouldin_score(x, kmeans.labels_), 3))\n",
    "print('calinsku harabasz score: ', round(metrics.calinski_harabasz_score(x, kmeans.labels_), 3))"
   ]
  },
  {
   "cell_type": "markdown",
   "metadata": {},
   "source": [
    "# Random Initialization"
   ]
  },
  {
   "cell_type": "code",
   "execution_count": 47,
   "metadata": {},
   "outputs": [],
   "source": [
    "kmeans = KMeans(n_clusters = 4, init = 'random', max_iter = 1, n_init = 1, random_state = 100)\n",
    "y_kmeans = kmeans.fit_predict(x)"
   ]
  },
  {
   "cell_type": "code",
   "execution_count": 48,
   "metadata": {},
   "outputs": [
    {
     "name": "stdout",
     "output_type": "stream",
     "text": [
      "(194, 2)\n"
     ]
    },
    {
     "data": {
      "text/html": [
       "<div>\n",
       "<style scoped>\n",
       "    .dataframe tbody tr th:only-of-type {\n",
       "        vertical-align: middle;\n",
       "    }\n",
       "\n",
       "    .dataframe tbody tr th {\n",
       "        vertical-align: top;\n",
       "    }\n",
       "\n",
       "    .dataframe thead th {\n",
       "        text-align: right;\n",
       "    }\n",
       "</style>\n",
       "<table border=\"1\" class=\"dataframe\">\n",
       "  <thead>\n",
       "    <tr style=\"text-align: right;\">\n",
       "      <th></th>\n",
       "      <th>class</th>\n",
       "      <th>Cluster</th>\n",
       "    </tr>\n",
       "  </thead>\n",
       "  <tbody>\n",
       "    <tr>\n",
       "      <th>54</th>\n",
       "      <td>0</td>\n",
       "      <td>3</td>\n",
       "    </tr>\n",
       "    <tr>\n",
       "      <th>39</th>\n",
       "      <td>0</td>\n",
       "      <td>0</td>\n",
       "    </tr>\n",
       "    <tr>\n",
       "      <th>108</th>\n",
       "      <td>1</td>\n",
       "      <td>3</td>\n",
       "    </tr>\n",
       "    <tr>\n",
       "      <th>105</th>\n",
       "      <td>1</td>\n",
       "      <td>3</td>\n",
       "    </tr>\n",
       "    <tr>\n",
       "      <th>61</th>\n",
       "      <td>0</td>\n",
       "      <td>3</td>\n",
       "    </tr>\n",
       "  </tbody>\n",
       "</table>\n",
       "</div>"
      ],
      "text/plain": [
       "     class  Cluster\n",
       "54       0        3\n",
       "39       0        0\n",
       "108      1        3\n",
       "105      1        3\n",
       "61       0        3"
      ]
     },
     "execution_count": 48,
     "metadata": {},
     "output_type": "execute_result"
    }
   ],
   "source": [
    "KM_clustered = x.copy()\n",
    "KM_clustered = pd.DataFrame(KM_clustered)\n",
    "KM_clustered.loc[:,'Cluster'] = kmeans.labels_ # append labels to points\n",
    "\n",
    "frames = [spiral['class'], KM_clustered['Cluster']]\n",
    "result = pd.concat(frames, axis = 1)\n",
    "print(result.shape)\n",
    "result.sample(5)"
   ]
  },
  {
   "cell_type": "code",
   "execution_count": 49,
   "metadata": {},
   "outputs": [
    {
     "name": "stdout",
     "output_type": "stream",
     "text": [
      "0 0\n",
      "1 1\n",
      "2 0\n",
      "3 1\n"
     ]
    }
   ],
   "source": [
    "for ClusterNum in range(4):\n",
    "\n",
    "    OneCluster = pd.DataFrame(result[result['Cluster'] == ClusterNum].groupby('class').size())\n",
    "    OneCluster.columns=['Size']\n",
    "    \n",
    "    NewDigit = OneCluster.index[OneCluster['Size'] == OneCluster['Size'].max()].tolist()\n",
    "    NewDigit[0]\n",
    "\n",
    "    rowIndex = result.index[result['Cluster'] == ClusterNum]\n",
    "    result.loc[rowIndex, 'TransLabel'] = NewDigit[0]\n",
    "    \n",
    "    print(ClusterNum, NewDigit[0])"
   ]
  },
  {
   "cell_type": "code",
   "execution_count": 50,
   "metadata": {},
   "outputs": [
    {
     "name": "stdout",
     "output_type": "stream",
     "text": [
      "K-Means performance\n",
      "------------------------------------------------------------\n",
      "Accuracy  0.546\n",
      "silhouette:  0.399\n",
      "homogeneity_score:  0.006\n",
      "completeness_score:  0.007\n",
      "v_measure_score:  0.007\n",
      "adjusted_rand_score:  0.004\n",
      "adjusted_mutual_info_score:  0.003\n",
      "davies bouldin score:  1.077\n",
      "calinsku harabasz score:  101.857\n"
     ]
    }
   ],
   "source": [
    "# Check performance of classification to 3 clusters\n",
    "\n",
    "print('K-Means performance')\n",
    "print('-'*60)\n",
    "\n",
    "Correct = (spiral['class'] == result['TransLabel']).sum()\n",
    "Accuracy = round(Correct/spiral.shape[0],3)\n",
    "print('Accuracy ', Accuracy)\n",
    "\n",
    "# METRICS for clustering algorithms\n",
    "\n",
    "print('silhouette: ', round(metrics.silhouette_score(x, result['TransLabel'],metric='sqeuclidean'),3))\n",
    "print('homogeneity_score: ', round(metrics.homogeneity_score(spiral['class'], result['TransLabel']),3))\n",
    "print('completeness_score: ', round(metrics.completeness_score(spiral['class'], result['TransLabel']),3))\n",
    "print('v_measure_score: ', round(metrics.v_measure_score(spiral['class'], result['TransLabel']),3))\n",
    "print('adjusted_rand_score: ', round(metrics.adjusted_rand_score(spiral['class'], result['TransLabel']),3))\n",
    "print('adjusted_mutual_info_score: ', round(metrics.adjusted_mutual_info_score(spiral['class'], result['TransLabel']),3))\n",
    "print('davies bouldin score: ', round(metrics.davies_bouldin_score(x, kmeans.labels_), 3))\n",
    "print('calinsku harabasz score: ', round(metrics.calinski_harabasz_score(x, kmeans.labels_), 3))"
   ]
  }
 ],
 "metadata": {
  "kernelspec": {
   "display_name": "Python 3",
   "language": "python",
   "name": "python3"
  },
  "language_info": {
   "codemirror_mode": {
    "name": "ipython",
    "version": 3
   },
   "file_extension": ".py",
   "mimetype": "text/x-python",
   "name": "python",
   "nbconvert_exporter": "python",
   "pygments_lexer": "ipython3",
   "version": "3.7.6"
  }
 },
 "nbformat": 4,
 "nbformat_minor": 4
}
